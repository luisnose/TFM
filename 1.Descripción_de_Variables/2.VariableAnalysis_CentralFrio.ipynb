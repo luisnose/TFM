{
 "cells": [
  {
   "cell_type": "markdown",
   "metadata": {},
   "source": [
    "Install if needed"
   ]
  },
  {
   "cell_type": "code",
   "execution_count": 1,
   "metadata": {},
   "outputs": [
    {
     "name": "stdout",
     "output_type": "stream",
     "text": [
      "Requirement already up-to-date: google-auth-oauthlib in /opt/conda/lib/python3.7/site-packages (0.4.1)\n",
      "Requirement already satisfied, skipping upgrade: google-auth in /opt/conda/lib/python3.7/site-packages (from google-auth-oauthlib) (1.21.1)\n",
      "Requirement already satisfied, skipping upgrade: requests-oauthlib>=0.7.0 in /opt/conda/lib/python3.7/site-packages (from google-auth-oauthlib) (1.3.0)\n",
      "Requirement already satisfied, skipping upgrade: cachetools<5.0,>=2.0.0 in /opt/conda/lib/python3.7/site-packages (from google-auth->google-auth-oauthlib) (4.1.1)\n",
      "Requirement already satisfied, skipping upgrade: setuptools>=40.3.0 in /opt/conda/lib/python3.7/site-packages (from google-auth->google-auth-oauthlib) (49.6.0.post20200814)\n",
      "Requirement already satisfied, skipping upgrade: pyasn1-modules>=0.2.1 in /opt/conda/lib/python3.7/site-packages (from google-auth->google-auth-oauthlib) (0.2.7)\n",
      "Requirement already satisfied, skipping upgrade: six>=1.9.0 in /opt/conda/lib/python3.7/site-packages (from google-auth->google-auth-oauthlib) (1.15.0)\n",
      "Requirement already satisfied, skipping upgrade: rsa<5,>=3.1.4; python_version >= \"3.5\" in /opt/conda/lib/python3.7/site-packages (from google-auth->google-auth-oauthlib) (4.6)\n",
      "Requirement already satisfied, skipping upgrade: requests>=2.0.0 in /opt/conda/lib/python3.7/site-packages (from requests-oauthlib>=0.7.0->google-auth-oauthlib) (2.24.0)\n",
      "Requirement already satisfied, skipping upgrade: oauthlib>=3.0.0 in /opt/conda/lib/python3.7/site-packages (from requests-oauthlib>=0.7.0->google-auth-oauthlib) (3.0.1)\n",
      "Requirement already satisfied, skipping upgrade: pyasn1<0.5.0,>=0.4.6 in /opt/conda/lib/python3.7/site-packages (from pyasn1-modules>=0.2.1->google-auth->google-auth-oauthlib) (0.4.8)\n",
      "Requirement already satisfied, skipping upgrade: urllib3!=1.25.0,!=1.25.1,<1.26,>=1.21.1 in /opt/conda/lib/python3.7/site-packages (from requests>=2.0.0->requests-oauthlib>=0.7.0->google-auth-oauthlib) (1.25.10)\n",
      "Requirement already satisfied, skipping upgrade: chardet<4,>=3.0.2 in /opt/conda/lib/python3.7/site-packages (from requests>=2.0.0->requests-oauthlib>=0.7.0->google-auth-oauthlib) (3.0.4)\n",
      "Requirement already satisfied, skipping upgrade: certifi>=2017.4.17 in /opt/conda/lib/python3.7/site-packages (from requests>=2.0.0->requests-oauthlib>=0.7.0->google-auth-oauthlib) (2020.6.20)\n",
      "Requirement already satisfied, skipping upgrade: idna<3,>=2.5 in /opt/conda/lib/python3.7/site-packages (from requests>=2.0.0->requests-oauthlib>=0.7.0->google-auth-oauthlib) (2.10)\n"
     ]
    }
   ],
   "source": [
    "!pip install --upgrade google-auth-oauthlib"
   ]
  },
  {
   "cell_type": "markdown",
   "metadata": {},
   "source": [
    "Import the required libraries"
   ]
  },
  {
   "cell_type": "code",
   "execution_count": 3,
   "metadata": {},
   "outputs": [],
   "source": [
    "from google.cloud import bigquery\n",
    "from google.oauth2 import service_account\n",
    "from google.cloud import storage\n",
    "\n",
    "import pandas as pd\n",
    "import matplotlib.pyplot as plt\n",
    "\n",
    "from dateutil.relativedelta import relativedelta\n"
   ]
  },
  {
   "cell_type": "markdown",
   "metadata": {},
   "source": [
    "Create the client for the services account needed to access the bigquery storage in project \"madonna-cloud-labpri-ctrlsenales\""
   ]
  },
  {
   "cell_type": "code",
   "execution_count": 4,
   "metadata": {},
   "outputs": [],
   "source": [
    "# TODO(developer): Set key_path to the path to the service account key\n",
    "#                  file.\n",
    "key_path = \"Credentials.json\"\n",
    "\n",
    "credentials = service_account.Credentials.from_service_account_file(\n",
    "    key_path, scopes=[\"https://www.googleapis.com/auth/cloud-platform\"],\n",
    ")\n",
    "\n",
    "client = bigquery.Client(credentials=credentials, project=credentials.project_id,)"
   ]
  },
  {
   "cell_type": "markdown",
   "metadata": {},
   "source": [
    "Import the Data from bigquery"
   ]
  },
  {
   "cell_type": "code",
   "execution_count": 5,
   "metadata": {},
   "outputs": [
    {
     "data": {
      "text/html": [
       "<div>\n",
       "<style scoped>\n",
       "    .dataframe tbody tr th:only-of-type {\n",
       "        vertical-align: middle;\n",
       "    }\n",
       "\n",
       "    .dataframe tbody tr th {\n",
       "        vertical-align: top;\n",
       "    }\n",
       "\n",
       "    .dataframe thead th {\n",
       "        text-align: right;\n",
       "    }\n",
       "</style>\n",
       "<table border=\"1\" class=\"dataframe\">\n",
       "  <thead>\n",
       "    <tr style=\"text-align: right;\">\n",
       "      <th></th>\n",
       "      <th>TS</th>\n",
       "      <th>ELEMENT</th>\n",
       "      <th>NAME_CENTRO</th>\n",
       "      <th>TAG_ALARMA</th>\n",
       "      <th>TAG_COMPRESOR1</th>\n",
       "      <th>TAG_COMPRESOR2</th>\n",
       "      <th>TAG_COMPRESOR3</th>\n",
       "      <th>TAG_COMPRESOR4</th>\n",
       "      <th>TAG_COMPRESOR5</th>\n",
       "      <th>TAG_COMPRESOR6</th>\n",
       "      <th>...</th>\n",
       "      <th>TAG_SETPOINT_COND</th>\n",
       "      <th>TAG_SONDA_ASP</th>\n",
       "      <th>TAG_SONDA_COND</th>\n",
       "      <th>TAG_SONDA_TEMP_EXT</th>\n",
       "      <th>TAG_SONDA_TEMP_SUBENF</th>\n",
       "      <th>TAG_VENTILADOR1</th>\n",
       "      <th>TAG_VENTILADOR2</th>\n",
       "      <th>TAG_VENTILADOR3</th>\n",
       "      <th>TAG_VENTILADOR4</th>\n",
       "      <th>TAG_VENTILADOR5</th>\n",
       "    </tr>\n",
       "  </thead>\n",
       "  <tbody>\n",
       "    <tr>\n",
       "      <th>0</th>\n",
       "      <td>2020-01-28 21:23:00+00:00</td>\n",
       "      <td>74561</td>\n",
       "      <td>C3749 Gáldar Gáldar Las Palmas</td>\n",
       "      <td>NaN</td>\n",
       "      <td>NaN</td>\n",
       "      <td>NaN</td>\n",
       "      <td>NaN</td>\n",
       "      <td>NaN</td>\n",
       "      <td>NaN</td>\n",
       "      <td>NaN</td>\n",
       "      <td>...</td>\n",
       "      <td>NaN</td>\n",
       "      <td>NaN</td>\n",
       "      <td>NaN</td>\n",
       "      <td>NaN</td>\n",
       "      <td>NaN</td>\n",
       "      <td>NaN</td>\n",
       "      <td>NaN</td>\n",
       "      <td>NaN</td>\n",
       "      <td>NaN</td>\n",
       "      <td>NaN</td>\n",
       "    </tr>\n",
       "    <tr>\n",
       "      <th>1</th>\n",
       "      <td>2020-01-23 21:32:00+00:00</td>\n",
       "      <td>74561</td>\n",
       "      <td>C3749 Gáldar Gáldar Las Palmas</td>\n",
       "      <td>NaN</td>\n",
       "      <td>NaN</td>\n",
       "      <td>NaN</td>\n",
       "      <td>NaN</td>\n",
       "      <td>NaN</td>\n",
       "      <td>NaN</td>\n",
       "      <td>NaN</td>\n",
       "      <td>...</td>\n",
       "      <td>NaN</td>\n",
       "      <td>NaN</td>\n",
       "      <td>NaN</td>\n",
       "      <td>NaN</td>\n",
       "      <td>NaN</td>\n",
       "      <td>NaN</td>\n",
       "      <td>NaN</td>\n",
       "      <td>NaN</td>\n",
       "      <td>NaN</td>\n",
       "      <td>NaN</td>\n",
       "    </tr>\n",
       "    <tr>\n",
       "      <th>2</th>\n",
       "      <td>2020-01-24 23:00:05+00:00</td>\n",
       "      <td>74561</td>\n",
       "      <td>C3749 Gáldar Gáldar Las Palmas</td>\n",
       "      <td>NaN</td>\n",
       "      <td>NaN</td>\n",
       "      <td>NaN</td>\n",
       "      <td>NaN</td>\n",
       "      <td>NaN</td>\n",
       "      <td>NaN</td>\n",
       "      <td>NaN</td>\n",
       "      <td>...</td>\n",
       "      <td>5.8</td>\n",
       "      <td>1.05</td>\n",
       "      <td>6.0</td>\n",
       "      <td>16.5</td>\n",
       "      <td>27.4</td>\n",
       "      <td>NaN</td>\n",
       "      <td>NaN</td>\n",
       "      <td>NaN</td>\n",
       "      <td>NaN</td>\n",
       "      <td>NaN</td>\n",
       "    </tr>\n",
       "    <tr>\n",
       "      <th>3</th>\n",
       "      <td>2020-01-25 07:56:00+00:00</td>\n",
       "      <td>74561</td>\n",
       "      <td>C3749 Gáldar Gáldar Las Palmas</td>\n",
       "      <td>NaN</td>\n",
       "      <td>NaN</td>\n",
       "      <td>NaN</td>\n",
       "      <td>NaN</td>\n",
       "      <td>NaN</td>\n",
       "      <td>NaN</td>\n",
       "      <td>NaN</td>\n",
       "      <td>...</td>\n",
       "      <td>NaN</td>\n",
       "      <td>NaN</td>\n",
       "      <td>NaN</td>\n",
       "      <td>NaN</td>\n",
       "      <td>NaN</td>\n",
       "      <td>NaN</td>\n",
       "      <td>NaN</td>\n",
       "      <td>NaN</td>\n",
       "      <td>NaN</td>\n",
       "      <td>NaN</td>\n",
       "    </tr>\n",
       "    <tr>\n",
       "      <th>4</th>\n",
       "      <td>2020-01-26 08:33:00+00:00</td>\n",
       "      <td>74561</td>\n",
       "      <td>C3749 Gáldar Gáldar Las Palmas</td>\n",
       "      <td>NaN</td>\n",
       "      <td>NaN</td>\n",
       "      <td>NaN</td>\n",
       "      <td>NaN</td>\n",
       "      <td>NaN</td>\n",
       "      <td>NaN</td>\n",
       "      <td>NaN</td>\n",
       "      <td>...</td>\n",
       "      <td>NaN</td>\n",
       "      <td>NaN</td>\n",
       "      <td>NaN</td>\n",
       "      <td>NaN</td>\n",
       "      <td>NaN</td>\n",
       "      <td>NaN</td>\n",
       "      <td>NaN</td>\n",
       "      <td>NaN</td>\n",
       "      <td>NaN</td>\n",
       "      <td>NaN</td>\n",
       "    </tr>\n",
       "  </tbody>\n",
       "</table>\n",
       "<p>5 rows × 36 columns</p>\n",
       "</div>"
      ],
      "text/plain": [
       "                         TS  ELEMENT                     NAME_CENTRO  \\\n",
       "0 2020-01-28 21:23:00+00:00    74561  C3749 Gáldar Gáldar Las Palmas   \n",
       "1 2020-01-23 21:32:00+00:00    74561  C3749 Gáldar Gáldar Las Palmas   \n",
       "2 2020-01-24 23:00:05+00:00    74561  C3749 Gáldar Gáldar Las Palmas   \n",
       "3 2020-01-25 07:56:00+00:00    74561  C3749 Gáldar Gáldar Las Palmas   \n",
       "4 2020-01-26 08:33:00+00:00    74561  C3749 Gáldar Gáldar Las Palmas   \n",
       "\n",
       "   TAG_ALARMA  TAG_COMPRESOR1  TAG_COMPRESOR2  TAG_COMPRESOR3  TAG_COMPRESOR4  \\\n",
       "0         NaN             NaN             NaN             NaN             NaN   \n",
       "1         NaN             NaN             NaN             NaN             NaN   \n",
       "2         NaN             NaN             NaN             NaN             NaN   \n",
       "3         NaN             NaN             NaN             NaN             NaN   \n",
       "4         NaN             NaN             NaN             NaN             NaN   \n",
       "\n",
       "   TAG_COMPRESOR5  TAG_COMPRESOR6  ...  TAG_SETPOINT_COND  TAG_SONDA_ASP  \\\n",
       "0             NaN             NaN  ...                NaN            NaN   \n",
       "1             NaN             NaN  ...                NaN            NaN   \n",
       "2             NaN             NaN  ...                5.8           1.05   \n",
       "3             NaN             NaN  ...                NaN            NaN   \n",
       "4             NaN             NaN  ...                NaN            NaN   \n",
       "\n",
       "   TAG_SONDA_COND  TAG_SONDA_TEMP_EXT  TAG_SONDA_TEMP_SUBENF  TAG_VENTILADOR1  \\\n",
       "0             NaN                 NaN                    NaN              NaN   \n",
       "1             NaN                 NaN                    NaN              NaN   \n",
       "2             6.0                16.5                   27.4              NaN   \n",
       "3             NaN                 NaN                    NaN              NaN   \n",
       "4             NaN                 NaN                    NaN              NaN   \n",
       "\n",
       "   TAG_VENTILADOR2  TAG_VENTILADOR3  TAG_VENTILADOR4  TAG_VENTILADOR5  \n",
       "0              NaN              NaN              NaN              NaN  \n",
       "1              NaN              NaN              NaN              NaN  \n",
       "2              NaN              NaN              NaN              NaN  \n",
       "3              NaN              NaN              NaN              NaN  \n",
       "4              NaN              NaN              NaN              NaN  \n",
       "\n",
       "[5 rows x 36 columns]"
      ]
     },
     "execution_count": 5,
     "metadata": {},
     "output_type": "execute_result"
    }
   ],
   "source": [
    "query = \"\"\"\n",
    "SELECT * FROM `mdona-cloud-labpri-ctrlsenales.DAN_PIC_Europe.PIC_TRACK_VARIABLES_PREP_CENTRALFRIO`;\n",
    "        \"\"\"\n",
    "#client = bigquery.Client(location=\"EU\", project=\"mdona-cloud-labpri-ctrlsenales\")\n",
    "\n",
    "\n",
    "query_job = client.query(query,location=\"EU\") \n",
    "\n",
    "df_Central = query_job.to_dataframe()\n",
    "df_Central.head()"
   ]
  },
  {
   "cell_type": "code",
   "execution_count": 6,
   "metadata": {},
   "outputs": [],
   "source": [
    "df_Central['TS'] = df_Central['TS'].dt.tz_localize(None)"
   ]
  },
  {
   "cell_type": "code",
   "execution_count": null,
   "metadata": {},
   "outputs": [],
   "source": [
    "df_Central = df_Central.groupby(['NAME_CENTRO',pd.Grouper(key='TS', freq='1s')]).mean().reset_index()"
   ]
  },
  {
   "cell_type": "markdown",
   "metadata": {},
   "source": [
    "Check the columns types"
   ]
  },
  {
   "cell_type": "markdown",
   "metadata": {},
   "source": [
    "Count the values of each column"
   ]
  },
  {
   "cell_type": "code",
   "execution_count": null,
   "metadata": {},
   "outputs": [],
   "source": [
    "print(round(df_Central.isnull().mean()*100,2))"
   ]
  },
  {
   "cell_type": "code",
   "execution_count": 6,
   "metadata": {},
   "outputs": [
    {
     "data": {
      "text/plain": [
       "TS                        69378573\n",
       "ELEMENT                   69378573\n",
       "NAME_CENTRO               69378573\n",
       "TAG_ALARMA                  399615\n",
       "TAG_COMPRESOR1             7687444\n",
       "TAG_COMPRESOR2             6427180\n",
       "TAG_COMPRESOR3             4985071\n",
       "TAG_COMPRESOR4             3651620\n",
       "TAG_COMPRESOR5             1377845\n",
       "TAG_COMPRESOR6             1028249\n",
       "TAG_COMUNICA                804342\n",
       "TAG_CONV_SETPOINT_ASP      2680103\n",
       "TAG_CONV_SETPOINT_COND     4154564\n",
       "TAG_CONV_SONDA_ASP        36865194\n",
       "TAG_CONV_SONDA_COND       29700240\n",
       "TAG_PASOMANUAL                 387\n",
       "TAG_PASOMANUAL_AVERIA          246\n",
       "TAG_PASOMANUAL_MTTO            134\n",
       "TAG_POTENCIA_COMP1        12176954\n",
       "TAG_POTENCIA_COMP2        10931779\n",
       "TAG_POTENCIA_COMP3         9057282\n",
       "TAG_POTENCIA_COMP4         7122721\n",
       "TAG_POTENCIA_COMP5         2752475\n",
       "TAG_POTENCIA_COMP6         2198476\n",
       "TAG_POTENCIA_INVERTER      4132805\n",
       "TAG_SETPOINT_ASP           1132973\n",
       "TAG_SETPOINT_COND          1463037\n",
       "TAG_SONDA_ASP             11680603\n",
       "TAG_SONDA_COND            16906500\n",
       "TAG_SONDA_TEMP_EXT        12217017\n",
       "TAG_SONDA_TEMP_SUBENF     24979842\n",
       "TAG_VENTILADOR1            3815065\n",
       "TAG_VENTILADOR2            3035272\n",
       "TAG_VENTILADOR3            2600200\n",
       "TAG_VENTILADOR4            1963030\n",
       "TAG_VENTILADOR5            1085400\n",
       "dtype: int64"
      ]
     },
     "execution_count": 6,
     "metadata": {},
     "output_type": "execute_result"
    }
   ],
   "source": [
    "df_Central.count()"
   ]
  },
  {
   "cell_type": "code",
   "execution_count": 9,
   "metadata": {},
   "outputs": [
    {
     "data": {
      "text/plain": [
       "TS                       69378573\n",
       "ELEMENT                  69378573\n",
       "NAME_CENTRO              69378573\n",
       "TAG_COMPRESOR1            7687444\n",
       "TAG_CONV_SONDA_ASP       36865194\n",
       "TAG_CONV_SONDA_COND      29700240\n",
       "TAG_POTENCIA_COMP1       12176954\n",
       "TAG_POTENCIA_COMP2       10931779\n",
       "TAG_POTENCIA_COMP3        9057282\n",
       "TAG_POTENCIA_COMP4        7122721\n",
       "TAG_SONDA_ASP            11680603\n",
       "TAG_SONDA_COND           16906500\n",
       "TAG_SONDA_TEMP_EXT       12217017\n",
       "TAG_SONDA_TEMP_SUBENF    24979842\n",
       "dtype: int64"
      ]
     },
     "execution_count": 9,
     "metadata": {},
     "output_type": "execute_result"
    }
   ],
   "source": [
    "df_Central2 =df_Central.drop(df_Central.loc[:,list((100*(df_Central.isnull().sum()/len(df_Central.index))>90))].columns, 1)\n",
    "df_Central2.count()"
   ]
  },
  {
   "cell_type": "code",
   "execution_count": 1,
   "metadata": {},
   "outputs": [
    {
     "ename": "SyntaxError",
     "evalue": "unexpected EOF while parsing (<ipython-input-1-427f927eb661>, line 6)",
     "output_type": "error",
     "traceback": [
      "\u001b[0;36m  File \u001b[0;32m\"<ipython-input-1-427f927eb661>\"\u001b[0;36m, line \u001b[0;32m6\u001b[0m\n\u001b[0;31m    print(round(df_loop['TS'].max()-df_loop['TS'].min())\u001b[0m\n\u001b[0m                                                        ^\u001b[0m\n\u001b[0;31mSyntaxError\u001b[0m\u001b[0;31m:\u001b[0m unexpected EOF while parsing\n"
     ]
    }
   ],
   "source": [
    "cycles = df_merge['cycle_number'].unique()\n",
    "print(\"the number of cycles: \",cycles.shape[0]) \n",
    "print(cycles) \n",
    "for i, val in enumerate(cycles):\n",
    "    print(\"Location: \",val)\n",
    "    df_loop = df_merge.loc[df_merge['cycle_number'] == (val)]\n",
    "    print(df_loop['ELEMENT'].unique())\n",
    "    print(df_loop[\"TS\"].max()-df_loop[\"TS\"].min())\n",
    "    print(\"cantida de rows   \",df_loop.shape[0])\n"
   ]
  },
  {
   "cell_type": "code",
   "execution_count": 11,
   "metadata": {},
   "outputs": [
    {
     "name": "stdout",
     "output_type": "stream",
     "text": [
      "Location:  C3749 Gáldar Gáldar Las Palmas\n",
      "TS                        0.00\n",
      "ELEMENT                   0.00\n",
      "NAME_CENTRO               0.00\n",
      "TAG_COMPRESOR1           90.07\n",
      "TAG_CONV_SONDA_ASP       41.49\n",
      "TAG_CONV_SONDA_COND      58.00\n",
      "TAG_POTENCIA_COMP1       77.86\n",
      "TAG_POTENCIA_COMP2       81.64\n",
      "TAG_POTENCIA_COMP3       85.01\n",
      "TAG_POTENCIA_COMP4       87.03\n",
      "TAG_SONDA_ASP            94.83\n",
      "TAG_SONDA_COND           87.02\n",
      "TAG_SONDA_TEMP_EXT       88.84\n",
      "TAG_SONDA_TEMP_SUBENF    66.83\n",
      "dtype: float64 \n",
      "\n",
      "Location:  C3731 Les Franqueses Les Franqueses Barcelona\n",
      "TS                        0.00\n",
      "ELEMENT                   0.00\n",
      "NAME_CENTRO               0.00\n",
      "TAG_COMPRESOR1           92.68\n",
      "TAG_CONV_SONDA_ASP       52.05\n",
      "TAG_CONV_SONDA_COND      59.31\n",
      "TAG_POTENCIA_COMP1       88.26\n",
      "TAG_POTENCIA_COMP2       89.21\n",
      "TAG_POTENCIA_COMP3       91.41\n",
      "TAG_POTENCIA_COMP4       90.25\n",
      "TAG_SONDA_ASP            86.61\n",
      "TAG_SONDA_COND           75.80\n",
      "TAG_SONDA_TEMP_EXT       81.85\n",
      "TAG_SONDA_TEMP_SUBENF    61.23\n",
      "dtype: float64 \n",
      "\n",
      "Location:  C2814 Poligono Garganes Altea Alacant\n",
      "TS                        0.00\n",
      "ELEMENT                   0.00\n",
      "NAME_CENTRO               0.00\n",
      "TAG_COMPRESOR1           91.32\n",
      "TAG_CONV_SONDA_ASP       39.02\n",
      "TAG_CONV_SONDA_COND      59.66\n",
      "TAG_POTENCIA_COMP1       80.85\n",
      "TAG_POTENCIA_COMP2       82.68\n",
      "TAG_POTENCIA_COMP3       83.90\n",
      "TAG_POTENCIA_COMP4       98.36\n",
      "TAG_SONDA_ASP            92.33\n",
      "TAG_SONDA_COND           87.43\n",
      "TAG_SONDA_TEMP_EXT       84.92\n",
      "TAG_SONDA_TEMP_SUBENF    30.31\n",
      "dtype: float64 \n",
      "\n",
      "Location:  C3547 Los Molinos Paterna Valencia\n",
      "TS                        0.00\n",
      "ELEMENT                   0.00\n",
      "NAME_CENTRO               0.00\n",
      "TAG_COMPRESOR1           87.37\n",
      "TAG_CONV_SONDA_ASP       53.71\n",
      "TAG_CONV_SONDA_COND      58.36\n",
      "TAG_POTENCIA_COMP1       79.94\n",
      "TAG_POTENCIA_COMP2       81.13\n",
      "TAG_POTENCIA_COMP3       83.69\n",
      "TAG_POTENCIA_COMP4       86.00\n",
      "TAG_SONDA_ASP            79.42\n",
      "TAG_SONDA_COND           69.22\n",
      "TAG_SONDA_TEMP_EXT       77.30\n",
      "TAG_SONDA_TEMP_SUBENF    66.44\n",
      "dtype: float64 \n",
      "\n",
      "Location:  C4183 Montigalà Badalona Barcelona\n",
      "TS                        0.00\n",
      "ELEMENT                   0.00\n",
      "NAME_CENTRO               0.00\n",
      "TAG_COMPRESOR1           91.26\n",
      "TAG_CONV_SONDA_ASP       48.22\n",
      "TAG_CONV_SONDA_COND      56.65\n",
      "TAG_POTENCIA_COMP1       86.99\n",
      "TAG_POTENCIA_COMP2       86.53\n",
      "TAG_POTENCIA_COMP3       88.50\n",
      "TAG_POTENCIA_COMP4       87.56\n",
      "TAG_SONDA_ASP            76.22\n",
      "TAG_SONDA_COND           69.91\n",
      "TAG_SONDA_TEMP_EXT       72.50\n",
      "TAG_SONDA_TEMP_SUBENF    67.20\n",
      "dtype: float64 \n",
      "\n",
      "Location:  C4385 Ctra. De Onda Villa-Real Castellón\n",
      "TS                        0.00\n",
      "ELEMENT                   0.00\n",
      "NAME_CENTRO               0.00\n",
      "TAG_COMPRESOR1           91.45\n",
      "TAG_CONV_SONDA_ASP       40.81\n",
      "TAG_CONV_SONDA_COND      51.58\n",
      "TAG_POTENCIA_COMP1       79.41\n",
      "TAG_POTENCIA_COMP2       81.44\n",
      "TAG_POTENCIA_COMP3       83.49\n",
      "TAG_POTENCIA_COMP4       85.56\n",
      "TAG_SONDA_ASP            93.47\n",
      "TAG_SONDA_COND           83.09\n",
      "TAG_SONDA_TEMP_EXT       81.79\n",
      "TAG_SONDA_TEMP_SUBENF    56.08\n",
      "dtype: float64 \n",
      "\n",
      "Location:  C4148 C/ Rioja Coslada Madrid\n",
      "TS                        0.00\n",
      "ELEMENT                   0.00\n",
      "NAME_CENTRO               0.00\n",
      "TAG_COMPRESOR1           91.33\n",
      "TAG_CONV_SONDA_ASP       39.35\n",
      "TAG_CONV_SONDA_COND      64.99\n",
      "TAG_POTENCIA_COMP1       78.85\n",
      "TAG_POTENCIA_COMP2       80.71\n",
      "TAG_POTENCIA_COMP3       83.53\n",
      "TAG_POTENCIA_COMP4       84.82\n",
      "TAG_SONDA_ASP            93.93\n",
      "TAG_SONDA_COND           91.73\n",
      "TAG_SONDA_TEMP_EXT       89.03\n",
      "TAG_SONDA_TEMP_SUBENF    49.51\n",
      "dtype: float64 \n",
      "\n",
      "Location:  C2494 C/Olivo Ciudad Real Ciudad Real\n",
      "TS                        0.00\n",
      "ELEMENT                   0.00\n",
      "NAME_CENTRO               0.00\n",
      "TAG_COMPRESOR1           91.18\n",
      "TAG_CONV_SONDA_ASP       40.13\n",
      "TAG_CONV_SONDA_COND      50.01\n",
      "TAG_POTENCIA_COMP1       78.80\n",
      "TAG_POTENCIA_COMP2       81.80\n",
      "TAG_POTENCIA_COMP3       84.98\n",
      "TAG_POTENCIA_COMP4       86.13\n",
      "TAG_SONDA_ASP            93.96\n",
      "TAG_SONDA_COND           82.30\n",
      "TAG_SONDA_TEMP_EXT       87.56\n",
      "TAG_SONDA_TEMP_SUBENF    53.74\n",
      "dtype: float64 \n",
      "\n",
      "Location:  C4324 C/ Simón de Anda Vitoria-Gasteiz Araba\n",
      "TS                        0.00\n",
      "ELEMENT                   0.00\n",
      "NAME_CENTRO               0.00\n",
      "TAG_COMPRESOR1           97.02\n",
      "TAG_CONV_SONDA_ASP       44.74\n",
      "TAG_CONV_SONDA_COND      63.42\n",
      "TAG_POTENCIA_COMP1       84.55\n",
      "TAG_POTENCIA_COMP2       84.90\n",
      "TAG_POTENCIA_COMP3       85.01\n",
      "TAG_POTENCIA_COMP4       90.05\n",
      "TAG_SONDA_ASP            79.09\n",
      "TAG_SONDA_COND           79.90\n",
      "TAG_SONDA_TEMP_EXT       50.34\n",
      "TAG_SONDA_TEMP_SUBENF    56.56\n",
      "dtype: float64 \n",
      "\n",
      "Location:  C4420 Centro Coinnovacion Paterna Valencia\n",
      "TS                        0.00\n",
      "ELEMENT                   0.00\n",
      "NAME_CENTRO               0.00\n",
      "TAG_COMPRESOR1           95.38\n",
      "TAG_CONV_SONDA_ASP       25.53\n",
      "TAG_CONV_SONDA_COND      40.07\n",
      "TAG_POTENCIA_COMP1       86.90\n",
      "TAG_POTENCIA_COMP2       86.98\n",
      "TAG_POTENCIA_COMP3       86.93\n",
      "TAG_POTENCIA_COMP4       93.17\n",
      "TAG_SONDA_ASP            70.74\n",
      "TAG_SONDA_COND           70.71\n",
      "TAG_SONDA_TEMP_EXT       61.59\n",
      "TAG_SONDA_TEMP_SUBENF    51.31\n",
      "dtype: float64 \n",
      "\n",
      "Location:  C3849 Valdespartera Zaragoza Zaragoza\n",
      "TS                        0.00\n",
      "ELEMENT                   0.00\n",
      "NAME_CENTRO               0.00\n",
      "TAG_COMPRESOR1           92.91\n",
      "TAG_CONV_SONDA_ASP       49.72\n",
      "TAG_CONV_SONDA_COND      88.05\n",
      "TAG_POTENCIA_COMP1       98.93\n",
      "TAG_POTENCIA_COMP2       98.93\n",
      "TAG_POTENCIA_COMP3       98.93\n",
      "TAG_POTENCIA_COMP4       98.93\n",
      "TAG_SONDA_ASP            92.27\n",
      "TAG_SONDA_COND           92.41\n",
      "TAG_SONDA_TEMP_EXT       80.90\n",
      "TAG_SONDA_TEMP_SUBENF    55.91\n",
      "dtype: float64 \n",
      "\n",
      "Location:  C3095 Benijofar Benijofar Alacant\n",
      "TS                        0.00\n",
      "ELEMENT                   0.00\n",
      "NAME_CENTRO               0.00\n",
      "TAG_COMPRESOR1           87.53\n",
      "TAG_CONV_SONDA_ASP       47.60\n",
      "TAG_CONV_SONDA_COND      75.06\n",
      "TAG_POTENCIA_COMP1       83.81\n",
      "TAG_POTENCIA_COMP2       84.40\n",
      "TAG_POTENCIA_COMP3       85.09\n",
      "TAG_POTENCIA_COMP4       84.98\n",
      "TAG_SONDA_ASP            69.43\n",
      "TAG_SONDA_COND           80.43\n",
      "TAG_SONDA_TEMP_EXT       70.10\n",
      "TAG_SONDA_TEMP_SUBENF    80.74\n",
      "dtype: float64 \n",
      "\n",
      "Location:  C2528 Palma Nova Calvia Illes Balears\n",
      "TS                        0.00\n",
      "ELEMENT                   0.00\n",
      "NAME_CENTRO               0.00\n",
      "TAG_COMPRESOR1           92.68\n",
      "TAG_CONV_SONDA_ASP       45.58\n",
      "TAG_CONV_SONDA_COND      34.17\n",
      "TAG_POTENCIA_COMP1       83.22\n",
      "TAG_POTENCIA_COMP2       86.38\n",
      "TAG_POTENCIA_COMP3       89.21\n",
      "TAG_POTENCIA_COMP4       91.12\n",
      "TAG_SONDA_ASP            88.88\n",
      "TAG_SONDA_COND           66.17\n",
      "TAG_SONDA_TEMP_EXT       88.39\n",
      "TAG_SONDA_TEMP_SUBENF    51.04\n",
      "dtype: float64 \n",
      "\n",
      "Location:  C3549 Ronda Sur Ciudad de Justicia Murcia Murcia\n",
      "TS                        0.00\n",
      "ELEMENT                   0.00\n",
      "NAME_CENTRO               0.00\n",
      "TAG_COMPRESOR1           91.90\n",
      "TAG_CONV_SONDA_ASP       46.23\n",
      "TAG_CONV_SONDA_COND      60.14\n",
      "TAG_POTENCIA_COMP1       78.81\n",
      "TAG_POTENCIA_COMP2       82.09\n",
      "TAG_POTENCIA_COMP3       84.63\n",
      "TAG_POTENCIA_COMP4       88.55\n",
      "TAG_SONDA_ASP            94.17\n",
      "TAG_SONDA_COND           90.29\n",
      "TAG_SONDA_TEMP_EXT       90.28\n",
      "TAG_SONDA_TEMP_SUBENF    51.71\n",
      "dtype: float64 \n",
      "\n",
      "Location:  C3754 La Catalana Madrid Madrid\n",
      "TS                        0.00\n",
      "ELEMENT                   0.00\n",
      "NAME_CENTRO               0.00\n",
      "TAG_COMPRESOR1           94.00\n",
      "TAG_CONV_SONDA_ASP       46.27\n",
      "TAG_CONV_SONDA_COND      78.65\n",
      "TAG_POTENCIA_COMP1       98.94\n",
      "TAG_POTENCIA_COMP2       98.94\n",
      "TAG_POTENCIA_COMP3       98.94\n",
      "TAG_POTENCIA_COMP4       98.94\n",
      "TAG_SONDA_ASP            81.41\n",
      "TAG_SONDA_COND           84.39\n",
      "TAG_SONDA_TEMP_EXT       85.91\n",
      "TAG_SONDA_TEMP_SUBENF    59.83\n",
      "dtype: float64 \n",
      "\n",
      "Location:  C2206 San Fulgencio San Fulgencio Alacant\n",
      "TS                        0.00\n",
      "ELEMENT                   0.00\n",
      "NAME_CENTRO               0.00\n",
      "TAG_COMPRESOR1           90.65\n",
      "TAG_CONV_SONDA_ASP       55.22\n",
      "TAG_CONV_SONDA_COND      65.16\n",
      "TAG_POTENCIA_COMP1       87.51\n",
      "TAG_POTENCIA_COMP2       85.54\n",
      "TAG_POTENCIA_COMP3       86.45\n",
      "TAG_POTENCIA_COMP4       87.99\n",
      "TAG_SONDA_ASP            73.45\n",
      "TAG_SONDA_COND           79.44\n",
      "TAG_SONDA_TEMP_EXT       92.34\n",
      "TAG_SONDA_TEMP_SUBENF    70.56\n",
      "dtype: float64 \n",
      "\n",
      "Location:  C4382 Txaporta Auzoa Gernika Bizkaia\n",
      "TS                        0.00\n",
      "ELEMENT                   0.00\n",
      "NAME_CENTRO               0.00\n",
      "TAG_COMPRESOR1           97.61\n",
      "TAG_CONV_SONDA_ASP       54.13\n",
      "TAG_CONV_SONDA_COND      51.99\n",
      "TAG_POTENCIA_COMP1       90.97\n",
      "TAG_POTENCIA_COMP2       92.04\n",
      "TAG_POTENCIA_COMP3       92.09\n",
      "TAG_POTENCIA_COMP4       97.97\n",
      "TAG_SONDA_ASP            90.81\n",
      "TAG_SONDA_COND           89.76\n",
      "TAG_SONDA_TEMP_EXT       82.90\n",
      "TAG_SONDA_TEMP_SUBENF    32.57\n",
      "dtype: float64 \n",
      "\n",
      "Location:  C3792 Avda. De Pablo Iglesias Colmenarejo Madrid\n",
      "TS                         0.0\n",
      "ELEMENT                    0.0\n",
      "NAME_CENTRO                0.0\n",
      "TAG_COMPRESOR1           100.0\n",
      "TAG_CONV_SONDA_ASP         0.0\n",
      "TAG_CONV_SONDA_COND      100.0\n",
      "TAG_POTENCIA_COMP1       100.0\n",
      "TAG_POTENCIA_COMP2       100.0\n",
      "TAG_POTENCIA_COMP3       100.0\n",
      "TAG_POTENCIA_COMP4       100.0\n",
      "TAG_SONDA_ASP            100.0\n",
      "TAG_SONDA_COND           100.0\n",
      "TAG_SONDA_TEMP_EXT       100.0\n",
      "TAG_SONDA_TEMP_SUBENF    100.0\n",
      "dtype: float64 \n",
      "\n",
      "Location:  C4280 Castellana - Juan Gris Madrid Madrid\n",
      "TS                        0.00\n",
      "ELEMENT                   0.00\n",
      "NAME_CENTRO               0.00\n",
      "TAG_COMPRESOR1           98.92\n",
      "TAG_CONV_SONDA_ASP       66.59\n",
      "TAG_CONV_SONDA_COND      66.10\n",
      "TAG_POTENCIA_COMP1       95.24\n",
      "TAG_POTENCIA_COMP2       95.23\n",
      "TAG_POTENCIA_COMP3       95.20\n",
      "TAG_POTENCIA_COMP4       97.81\n",
      "TAG_SONDA_ASP            90.92\n",
      "TAG_SONDA_COND           90.46\n",
      "TAG_SONDA_TEMP_EXT       72.37\n",
      "TAG_SONDA_TEMP_SUBENF    17.87\n",
      "dtype: float64 \n",
      "\n",
      "Location:  C3697 Cº Del Cementerio Valladolid Valladolid\n",
      "TS                        0.00\n",
      "ELEMENT                   0.00\n",
      "NAME_CENTRO               0.00\n",
      "TAG_COMPRESOR1           97.03\n",
      "TAG_CONV_SONDA_ASP       40.18\n",
      "TAG_CONV_SONDA_COND      33.80\n",
      "TAG_POTENCIA_COMP1       90.55\n",
      "TAG_POTENCIA_COMP2       91.17\n",
      "TAG_POTENCIA_COMP3       91.55\n",
      "TAG_POTENCIA_COMP4       98.00\n",
      "TAG_SONDA_ASP            88.42\n",
      "TAG_SONDA_COND           72.32\n",
      "TAG_SONDA_TEMP_EXT       85.48\n",
      "TAG_SONDA_TEMP_SUBENF    33.06\n",
      "dtype: float64 \n",
      "\n",
      "Location:  C3635 C.C. Novo Milladoiro Ames A Coruña\n",
      "TS                        0.00\n",
      "ELEMENT                   0.00\n",
      "NAME_CENTRO               0.00\n",
      "TAG_COMPRESOR1           90.62\n",
      "TAG_CONV_SONDA_ASP       49.78\n",
      "TAG_CONV_SONDA_COND      54.80\n",
      "TAG_POTENCIA_COMP1       83.78\n",
      "TAG_POTENCIA_COMP2       86.25\n",
      "TAG_POTENCIA_COMP3       88.18\n",
      "TAG_POTENCIA_COMP4       89.87\n",
      "TAG_SONDA_ASP            88.54\n",
      "TAG_SONDA_COND           73.69\n",
      "TAG_SONDA_TEMP_EXT       82.76\n",
      "TAG_SONDA_TEMP_SUBENF    80.69\n",
      "dtype: float64 \n",
      "\n",
      "Location:  C2438 Benetússer Benetússer Valencia\n",
      "TS                        0.00\n",
      "ELEMENT                   0.00\n",
      "NAME_CENTRO               0.00\n",
      "TAG_COMPRESOR1           86.52\n",
      "TAG_CONV_SONDA_ASP       47.25\n",
      "TAG_CONV_SONDA_COND      54.83\n",
      "TAG_POTENCIA_COMP1       82.88\n",
      "TAG_POTENCIA_COMP2       83.37\n",
      "TAG_POTENCIA_COMP3       84.03\n",
      "TAG_POTENCIA_COMP4       84.88\n",
      "TAG_SONDA_ASP            72.88\n",
      "TAG_SONDA_COND           69.37\n",
      "TAG_SONDA_TEMP_EXT       88.84\n",
      "TAG_SONDA_TEMP_SUBENF    70.80\n",
      "dtype: float64 \n",
      "\n",
      "Location:  C3452 C/ César Manrique Rivas Vaciamadrid Madrid\n",
      "TS                        0.00\n",
      "ELEMENT                   0.00\n",
      "NAME_CENTRO               0.00\n",
      "TAG_COMPRESOR1           94.96\n",
      "TAG_CONV_SONDA_ASP       40.45\n",
      "TAG_CONV_SONDA_COND      49.10\n",
      "TAG_POTENCIA_COMP1       83.62\n",
      "TAG_POTENCIA_COMP2       85.20\n",
      "TAG_POTENCIA_COMP3       86.37\n",
      "TAG_POTENCIA_COMP4       98.23\n",
      "TAG_SONDA_ASP            91.99\n",
      "TAG_SONDA_COND           83.37\n",
      "TAG_SONDA_TEMP_EXT       81.30\n",
      "TAG_SONDA_TEMP_SUBENF    61.80\n",
      "dtype: float64 \n",
      "\n",
      "Location:  C3684 Torrijos Torrijos Toledo\n",
      "TS                        0.00\n",
      "ELEMENT                   0.00\n",
      "NAME_CENTRO               0.00\n",
      "TAG_COMPRESOR1           92.45\n",
      "TAG_CONV_SONDA_ASP       52.83\n",
      "TAG_CONV_SONDA_COND      53.28\n",
      "TAG_POTENCIA_COMP1       82.35\n",
      "TAG_POTENCIA_COMP2       84.69\n",
      "TAG_POTENCIA_COMP3       87.12\n",
      "TAG_POTENCIA_COMP4       89.96\n",
      "TAG_SONDA_ASP            95.08\n",
      "TAG_SONDA_COND           82.87\n",
      "TAG_SONDA_TEMP_EXT       83.99\n",
      "TAG_SONDA_TEMP_SUBENF    62.32\n",
      "dtype: float64 \n",
      "\n",
      "Location:  C3970 Sta. Gemma Paterna Valencia\n",
      "TS                        0.00\n",
      "ELEMENT                   0.00\n",
      "NAME_CENTRO               0.00\n",
      "TAG_COMPRESOR1           84.95\n",
      "TAG_CONV_SONDA_ASP       56.24\n",
      "TAG_CONV_SONDA_COND      55.71\n",
      "TAG_POTENCIA_COMP1       77.89\n",
      "TAG_POTENCIA_COMP2       80.69\n",
      "TAG_POTENCIA_COMP3       85.27\n",
      "TAG_POTENCIA_COMP4       87.40\n",
      "TAG_SONDA_ASP            93.43\n",
      "TAG_SONDA_COND           71.47\n",
      "TAG_SONDA_TEMP_EXT       90.69\n",
      "TAG_SONDA_TEMP_SUBENF    60.85\n",
      "dtype: float64 \n",
      "\n",
      "Location:  C4294 Torrent Raig Calella Barcelona\n",
      "TS                        0.00\n",
      "ELEMENT                   0.00\n",
      "NAME_CENTRO               0.00\n",
      "TAG_COMPRESOR1           89.34\n",
      "TAG_CONV_SONDA_ASP       40.54\n",
      "TAG_CONV_SONDA_COND      51.16\n",
      "TAG_POTENCIA_COMP1       75.29\n",
      "TAG_POTENCIA_COMP2       78.63\n",
      "TAG_POTENCIA_COMP3       85.04\n",
      "TAG_POTENCIA_COMP4       83.47\n",
      "TAG_SONDA_ASP            94.19\n",
      "TAG_SONDA_COND           85.94\n",
      "TAG_SONDA_TEMP_EXT       91.40\n",
      "TAG_SONDA_TEMP_SUBENF    76.63\n",
      "dtype: float64 \n",
      "\n",
      "Location:  C4442 Avda. Dr. Pascual Parrilla Murcia Murcia\n",
      "TS                        0.00\n",
      "ELEMENT                   0.00\n",
      "NAME_CENTRO               0.00\n",
      "TAG_COMPRESOR1           95.20\n",
      "TAG_CONV_SONDA_ASP       31.52\n",
      "TAG_CONV_SONDA_COND      55.35\n",
      "TAG_POTENCIA_COMP1       87.00\n",
      "TAG_POTENCIA_COMP2       84.99\n",
      "TAG_POTENCIA_COMP3       87.24\n",
      "TAG_POTENCIA_COMP4       98.15\n",
      "TAG_SONDA_ASP            88.46\n",
      "TAG_SONDA_COND           89.97\n",
      "TAG_SONDA_TEMP_EXT       86.73\n",
      "TAG_SONDA_TEMP_SUBENF    56.77\n",
      "dtype: float64 \n",
      "\n",
      "Location:  C3718 Villanueva de Gallego Villanueva Zaragoza\n",
      "TS                        0.00\n",
      "ELEMENT                   0.00\n",
      "NAME_CENTRO               0.00\n",
      "TAG_COMPRESOR1           87.82\n",
      "TAG_CONV_SONDA_ASP       46.34\n",
      "TAG_CONV_SONDA_COND      60.54\n",
      "TAG_POTENCIA_COMP1       82.29\n",
      "TAG_POTENCIA_COMP2       84.60\n",
      "TAG_POTENCIA_COMP3       86.43\n",
      "TAG_POTENCIA_COMP4       87.92\n",
      "TAG_SONDA_ASP            80.90\n",
      "TAG_SONDA_COND           79.37\n",
      "TAG_SONDA_TEMP_EXT       79.87\n",
      "TAG_SONDA_TEMP_SUBENF    70.64\n",
      "dtype: float64 \n",
      "\n",
      "Location:  C2342 S. Fdo. Mas Palomas S.Bartolomé Las Palmas\n",
      "TS                        0.00\n",
      "ELEMENT                   0.00\n",
      "NAME_CENTRO               0.00\n",
      "TAG_COMPRESOR1           96.13\n",
      "TAG_CONV_SONDA_ASP       46.59\n",
      "TAG_CONV_SONDA_COND      50.04\n",
      "TAG_POTENCIA_COMP1       89.01\n",
      "TAG_POTENCIA_COMP2       89.81\n",
      "TAG_POTENCIA_COMP3       90.42\n",
      "TAG_POTENCIA_COMP4       98.39\n",
      "TAG_SONDA_ASP            93.24\n",
      "TAG_SONDA_COND           77.50\n",
      "TAG_SONDA_TEMP_EXT       88.00\n",
      "TAG_SONDA_TEMP_SUBENF    42.92\n",
      "dtype: float64 \n",
      "\n",
      "Location:  C3965 Abastos Valencia Valencia\n",
      "TS                        0.00\n",
      "ELEMENT                   0.00\n",
      "NAME_CENTRO               0.00\n",
      "TAG_COMPRESOR1           88.92\n",
      "TAG_CONV_SONDA_ASP       39.32\n",
      "TAG_CONV_SONDA_COND      46.29\n",
      "TAG_POTENCIA_COMP1       83.51\n",
      "TAG_POTENCIA_COMP2       84.94\n",
      "TAG_POTENCIA_COMP3       86.14\n",
      "TAG_POTENCIA_COMP4       87.82\n",
      "TAG_SONDA_ASP            75.91\n",
      "TAG_SONDA_COND           63.42\n",
      "TAG_SONDA_TEMP_EXT       72.02\n",
      "TAG_SONDA_TEMP_SUBENF    54.92\n",
      "dtype: float64 \n",
      "\n",
      "Location:  C3854 Palmones Los Barrios Cádiz\n",
      "TS                        0.00\n",
      "ELEMENT                   0.00\n",
      "NAME_CENTRO               0.00\n",
      "TAG_COMPRESOR1           82.67\n",
      "TAG_CONV_SONDA_ASP       56.01\n",
      "TAG_CONV_SONDA_COND      59.55\n",
      "TAG_POTENCIA_COMP1       77.42\n",
      "TAG_POTENCIA_COMP2       79.93\n",
      "TAG_POTENCIA_COMP3       82.33\n",
      "TAG_POTENCIA_COMP4       84.76\n",
      "TAG_SONDA_ASP            84.76\n",
      "TAG_SONDA_COND           67.90\n",
      "TAG_SONDA_TEMP_EXT       69.98\n",
      "TAG_SONDA_TEMP_SUBENF    88.61\n",
      "dtype: float64 \n",
      "\n",
      "Location:  C3619 Urbanización Monte Pinar Murcia Murcia\n",
      "TS                        0.00\n",
      "ELEMENT                   0.00\n",
      "NAME_CENTRO               0.00\n",
      "TAG_COMPRESOR1           91.59\n",
      "TAG_CONV_SONDA_ASP       40.62\n",
      "TAG_CONV_SONDA_COND      50.33\n",
      "TAG_POTENCIA_COMP1       80.30\n",
      "TAG_POTENCIA_COMP2       88.04\n",
      "TAG_POTENCIA_COMP3       88.65\n",
      "TAG_POTENCIA_COMP4       98.09\n",
      "TAG_SONDA_ASP            92.07\n",
      "TAG_SONDA_COND           85.09\n",
      "TAG_SONDA_TEMP_EXT       81.69\n",
      "TAG_SONDA_TEMP_SUBENF    52.88\n",
      "dtype: float64 \n",
      "\n",
      "Location:  C3912 C.C. Papagayo A Coruña A Coruña\n",
      "TS                        0.00\n",
      "ELEMENT                   0.00\n",
      "NAME_CENTRO               0.00\n",
      "TAG_COMPRESOR1           87.24\n",
      "TAG_CONV_SONDA_ASP       46.04\n",
      "TAG_CONV_SONDA_COND      53.00\n",
      "TAG_POTENCIA_COMP1       86.38\n",
      "TAG_POTENCIA_COMP2       90.17\n",
      "TAG_POTENCIA_COMP3       89.19\n",
      "TAG_POTENCIA_COMP4       90.82\n",
      "TAG_SONDA_ASP            81.35\n",
      "TAG_SONDA_COND           68.78\n",
      "TAG_SONDA_TEMP_EXT       88.93\n",
      "TAG_SONDA_TEMP_SUBENF    62.72\n",
      "dtype: float64 \n",
      "\n",
      "Location:  C3130 Pueblonuevo Madrid Madrid\n",
      "TS                        0.00\n",
      "ELEMENT                   0.00\n",
      "NAME_CENTRO               0.00\n",
      "TAG_COMPRESOR1           95.80\n",
      "TAG_CONV_SONDA_ASP       35.75\n",
      "TAG_CONV_SONDA_COND      47.23\n",
      "TAG_POTENCIA_COMP1       89.78\n",
      "TAG_POTENCIA_COMP2       91.32\n",
      "TAG_POTENCIA_COMP3       92.90\n",
      "TAG_POTENCIA_COMP4       93.05\n",
      "TAG_SONDA_ASP            86.26\n",
      "TAG_SONDA_COND           70.81\n",
      "TAG_SONDA_TEMP_EXT       71.22\n",
      "TAG_SONDA_TEMP_SUBENF    80.26\n",
      "dtype: float64 \n",
      "\n",
      "Location:  C4408 Passeig De Morella Castellón Castellón\n",
      "TS                        0.00\n",
      "ELEMENT                   0.00\n",
      "NAME_CENTRO               0.00\n",
      "TAG_COMPRESOR1           88.87\n",
      "TAG_CONV_SONDA_ASP       38.90\n",
      "TAG_CONV_SONDA_COND      55.62\n",
      "TAG_POTENCIA_COMP1       74.50\n",
      "TAG_POTENCIA_COMP2       77.53\n",
      "TAG_POTENCIA_COMP3       82.10\n",
      "TAG_POTENCIA_COMP4       83.87\n",
      "TAG_SONDA_ASP            93.67\n",
      "TAG_SONDA_COND           82.14\n",
      "TAG_SONDA_TEMP_EXT       91.90\n",
      "TAG_SONDA_TEMP_SUBENF    60.89\n",
      "dtype: float64 \n",
      "\n",
      "Location:  C2010 Av. Del Parque Lucena Córdoba\n",
      "TS                        0.00\n",
      "ELEMENT                   0.00\n",
      "NAME_CENTRO               0.00\n",
      "TAG_COMPRESOR1           81.72\n",
      "TAG_CONV_SONDA_ASP       59.52\n",
      "TAG_CONV_SONDA_COND      65.38\n",
      "TAG_POTENCIA_COMP1       78.49\n",
      "TAG_POTENCIA_COMP2       80.32\n",
      "TAG_POTENCIA_COMP3       82.95\n",
      "TAG_POTENCIA_COMP4       86.20\n",
      "TAG_SONDA_ASP            94.45\n",
      "TAG_SONDA_COND           82.08\n",
      "TAG_SONDA_TEMP_EXT       88.10\n",
      "TAG_SONDA_TEMP_SUBENF    72.21\n",
      "dtype: float64 \n",
      "\n",
      "Location:  C3709 C.C. Alcalá Atenea Alcalá De Henares Madrid\n",
      "TS                        0.00\n",
      "ELEMENT                   0.00\n",
      "NAME_CENTRO               0.00\n",
      "TAG_COMPRESOR1           91.47\n",
      "TAG_CONV_SONDA_ASP       37.13\n",
      "TAG_CONV_SONDA_COND      64.26\n",
      "TAG_POTENCIA_COMP1       81.98\n",
      "TAG_POTENCIA_COMP2       83.71\n",
      "TAG_POTENCIA_COMP3       84.91\n",
      "TAG_POTENCIA_COMP4       98.33\n",
      "TAG_SONDA_ASP            89.82\n",
      "TAG_SONDA_COND           87.18\n",
      "TAG_SONDA_TEMP_EXT       88.86\n",
      "TAG_SONDA_TEMP_SUBENF    70.17\n",
      "dtype: float64 \n",
      "\n",
      "Location:  C4030 Carrer De Piera Vilanova I La Geltru Barcelona\n",
      "TS                        0.00\n",
      "ELEMENT                   0.00\n",
      "NAME_CENTRO               0.00\n",
      "TAG_COMPRESOR1           80.12\n",
      "TAG_CONV_SONDA_ASP       46.76\n",
      "TAG_CONV_SONDA_COND      51.03\n",
      "TAG_POTENCIA_COMP1       74.10\n",
      "TAG_POTENCIA_COMP2       76.54\n",
      "TAG_POTENCIA_COMP3       98.95\n",
      "TAG_POTENCIA_COMP4       98.95\n",
      "TAG_SONDA_ASP            80.41\n",
      "TAG_SONDA_COND           64.20\n",
      "TAG_SONDA_TEMP_EXT       91.46\n",
      "TAG_SONDA_TEMP_SUBENF    63.86\n",
      "dtype: float64 \n",
      "\n",
      "Location:  C3935 Corralejo La Oliva Las Palmas\n",
      "TS                        0.00\n",
      "ELEMENT                   0.00\n",
      "NAME_CENTRO               0.00\n",
      "TAG_COMPRESOR1           88.26\n",
      "TAG_CONV_SONDA_ASP       55.62\n",
      "TAG_CONV_SONDA_COND      58.91\n",
      "TAG_POTENCIA_COMP1       83.33\n",
      "TAG_POTENCIA_COMP2       84.34\n",
      "TAG_POTENCIA_COMP3       85.83\n",
      "TAG_POTENCIA_COMP4       86.35\n",
      "TAG_SONDA_ASP            73.59\n",
      "TAG_SONDA_COND           67.66\n",
      "TAG_SONDA_TEMP_EXT       88.26\n",
      "TAG_SONDA_TEMP_SUBENF    72.33\n",
      "dtype: float64 \n",
      "\n",
      "Location:  C4315 El Hospitalillo Avilés Asturias\n",
      "TS                        0.00\n",
      "ELEMENT                   0.00\n",
      "NAME_CENTRO               0.00\n",
      "TAG_COMPRESOR1           95.71\n",
      "TAG_CONV_SONDA_ASP       38.15\n",
      "TAG_CONV_SONDA_COND      63.46\n",
      "TAG_POTENCIA_COMP1       88.90\n",
      "TAG_POTENCIA_COMP2       89.65\n",
      "TAG_POTENCIA_COMP3       88.92\n",
      "TAG_POTENCIA_COMP4       98.31\n",
      "TAG_SONDA_ASP            90.32\n",
      "TAG_SONDA_COND           82.96\n",
      "TAG_SONDA_TEMP_EXT       85.19\n",
      "TAG_SONDA_TEMP_SUBENF    54.07\n",
      "dtype: float64 \n",
      "\n",
      "Location:  C2542 Monteclaro Pozuelo De Alarcon Madrid\n",
      "TS                        0.00\n",
      "ELEMENT                   0.00\n",
      "NAME_CENTRO               0.00\n",
      "TAG_COMPRESOR1           90.72\n",
      "TAG_CONV_SONDA_ASP       37.75\n",
      "TAG_CONV_SONDA_COND      59.89\n",
      "TAG_POTENCIA_COMP1       77.99\n",
      "TAG_POTENCIA_COMP2       80.98\n",
      "TAG_POTENCIA_COMP3       83.74\n",
      "TAG_POTENCIA_COMP4       85.48\n",
      "TAG_SONDA_ASP            94.12\n",
      "TAG_SONDA_COND           87.81\n",
      "TAG_SONDA_TEMP_EXT       88.67\n",
      "TAG_SONDA_TEMP_SUBENF    50.82\n",
      "dtype: float64 \n",
      "\n",
      "Location:  C2743 Las Chafiras S. Miguel de Abona Tenerife\n",
      "TS                        0.00\n",
      "ELEMENT                   0.00\n",
      "NAME_CENTRO               0.00\n",
      "TAG_COMPRESOR1           91.04\n",
      "TAG_CONV_SONDA_ASP       45.99\n",
      "TAG_CONV_SONDA_COND      52.09\n",
      "TAG_POTENCIA_COMP1       86.32\n",
      "TAG_POTENCIA_COMP2       82.62\n",
      "TAG_POTENCIA_COMP3       83.96\n",
      "TAG_POTENCIA_COMP4       84.04\n",
      "TAG_SONDA_ASP            66.83\n",
      "TAG_SONDA_COND           63.14\n",
      "TAG_SONDA_TEMP_EXT       92.61\n",
      "TAG_SONDA_TEMP_SUBENF    55.80\n",
      "dtype: float64 \n",
      "\n",
      "Location:  C2185 Siete Palmas Las Palmas GC Las Palmas\n",
      "TS                        0.00\n",
      "ELEMENT                   0.00\n",
      "NAME_CENTRO               0.00\n",
      "TAG_COMPRESOR1           87.23\n",
      "TAG_CONV_SONDA_ASP       45.55\n",
      "TAG_CONV_SONDA_COND      52.28\n",
      "TAG_POTENCIA_COMP1       80.39\n",
      "TAG_POTENCIA_COMP2       82.51\n",
      "TAG_POTENCIA_COMP3       83.29\n",
      "TAG_POTENCIA_COMP4       88.98\n",
      "TAG_SONDA_ASP            72.43\n",
      "TAG_SONDA_COND           64.26\n",
      "TAG_SONDA_TEMP_EXT       83.05\n",
      "TAG_SONDA_TEMP_SUBENF    50.37\n",
      "dtype: float64 \n",
      "\n",
      "Location:  C3449 Avda. Villamallor Salamanca Salamanca\n",
      "TS                        0.00\n",
      "ELEMENT                   0.00\n",
      "NAME_CENTRO               0.00\n",
      "TAG_COMPRESOR1           97.40\n",
      "TAG_CONV_SONDA_ASP       37.19\n",
      "TAG_CONV_SONDA_COND      54.48\n",
      "TAG_POTENCIA_COMP1       94.48\n",
      "TAG_POTENCIA_COMP2       97.84\n",
      "TAG_POTENCIA_COMP3       97.84\n",
      "TAG_POTENCIA_COMP4       97.84\n",
      "TAG_SONDA_ASP            87.41\n",
      "TAG_SONDA_COND           83.47\n",
      "TAG_SONDA_TEMP_EXT       78.77\n",
      "TAG_SONDA_TEMP_SUBENF    44.42\n",
      "dtype: float64 \n",
      "\n",
      "Location:  C3226 Olivienza Olivienza Badajoz\n",
      "TS                        0.00\n",
      "ELEMENT                   0.00\n",
      "NAME_CENTRO               0.00\n",
      "TAG_COMPRESOR1           82.53\n",
      "TAG_CONV_SONDA_ASP       50.54\n",
      "TAG_CONV_SONDA_COND      61.39\n",
      "TAG_POTENCIA_COMP1       75.88\n",
      "TAG_POTENCIA_COMP2       82.84\n",
      "TAG_POTENCIA_COMP3       79.80\n",
      "TAG_POTENCIA_COMP4       89.95\n",
      "TAG_SONDA_ASP            91.29\n",
      "TAG_SONDA_COND           74.86\n",
      "TAG_SONDA_TEMP_EXT       82.75\n",
      "TAG_SONDA_TEMP_SUBENF    71.48\n",
      "dtype: float64 \n",
      "\n",
      "Location:  C3501 Bermejales Sevilla Sevilla\n",
      "TS                        0.00\n",
      "ELEMENT                   0.00\n",
      "NAME_CENTRO               0.00\n",
      "TAG_COMPRESOR1           96.05\n",
      "TAG_CONV_SONDA_ASP       33.81\n",
      "TAG_CONV_SONDA_COND      36.25\n",
      "TAG_POTENCIA_COMP1       86.21\n",
      "TAG_POTENCIA_COMP2       87.11\n",
      "TAG_POTENCIA_COMP3       88.24\n",
      "TAG_POTENCIA_COMP4       98.12\n",
      "TAG_SONDA_ASP            91.89\n",
      "TAG_SONDA_COND           76.39\n",
      "TAG_SONDA_TEMP_EXT       81.42\n",
      "TAG_SONDA_TEMP_SUBENF    72.29\n",
      "dtype: float64 \n",
      "\n",
      "Location:  C4467 P.C. On Plaza Torrejón De Ardoz Madrid\n",
      "TS                        0.00\n",
      "ELEMENT                   0.00\n",
      "NAME_CENTRO               0.00\n",
      "TAG_COMPRESOR1           97.64\n",
      "TAG_CONV_SONDA_ASP       32.41\n",
      "TAG_CONV_SONDA_COND      56.10\n",
      "TAG_POTENCIA_COMP1       92.08\n",
      "TAG_POTENCIA_COMP2       92.64\n",
      "TAG_POTENCIA_COMP3       92.74\n",
      "TAG_POTENCIA_COMP4       93.08\n",
      "TAG_SONDA_ASP            86.45\n",
      "TAG_SONDA_COND           83.49\n",
      "TAG_SONDA_TEMP_EXT       83.82\n",
      "TAG_SONDA_TEMP_SUBENF    52.57\n",
      "dtype: float64 \n",
      "\n",
      "Location:  C3873 Puerta de Alicante Alicante Alacant\n",
      "TS                        0.00\n",
      "ELEMENT                   0.00\n",
      "NAME_CENTRO               0.00\n",
      "TAG_COMPRESOR1           87.16\n",
      "TAG_CONV_SONDA_ASP       61.45\n",
      "TAG_CONV_SONDA_COND      65.70\n",
      "TAG_POTENCIA_COMP1       83.89\n",
      "TAG_POTENCIA_COMP2       84.48\n",
      "TAG_POTENCIA_COMP3       84.38\n",
      "TAG_POTENCIA_COMP4       85.77\n",
      "TAG_SONDA_ASP            79.49\n",
      "TAG_SONDA_COND           76.22\n",
      "TAG_SONDA_TEMP_EXT       84.80\n",
      "TAG_SONDA_TEMP_SUBENF    93.96\n",
      "dtype: float64 \n",
      "\n",
      "Location:  C3689 Avda De La Ilustración Cádiz Cádiz\n",
      "TS                        0.00\n",
      "ELEMENT                   0.00\n",
      "NAME_CENTRO               0.00\n",
      "TAG_COMPRESOR1           89.03\n",
      "TAG_CONV_SONDA_ASP       38.62\n",
      "TAG_CONV_SONDA_COND      69.09\n",
      "TAG_POTENCIA_COMP1       76.09\n",
      "TAG_POTENCIA_COMP2       80.13\n",
      "TAG_POTENCIA_COMP3       85.03\n",
      "TAG_POTENCIA_COMP4       88.84\n",
      "TAG_SONDA_ASP            93.03\n",
      "TAG_SONDA_COND           91.81\n",
      "TAG_SONDA_TEMP_EXT       84.21\n",
      "TAG_SONDA_TEMP_SUBENF    46.86\n",
      "dtype: float64 \n",
      "\n",
      "Location:  C2899 Avda. Del Infante Don Luis Boadilla Madrid\n",
      "TS                        0.00\n",
      "ELEMENT                   0.00\n",
      "NAME_CENTRO               0.00\n",
      "TAG_COMPRESOR1           88.39\n",
      "TAG_CONV_SONDA_ASP       39.81\n",
      "TAG_CONV_SONDA_COND      52.56\n",
      "TAG_POTENCIA_COMP1       74.32\n",
      "TAG_POTENCIA_COMP2       78.40\n",
      "TAG_POTENCIA_COMP3       81.71\n",
      "TAG_POTENCIA_COMP4       84.43\n",
      "TAG_SONDA_ASP            93.26\n",
      "TAG_SONDA_COND           86.23\n",
      "TAG_SONDA_TEMP_EXT       80.40\n",
      "TAG_SONDA_TEMP_SUBENF    56.70\n",
      "dtype: float64 \n",
      "\n",
      "Location:  C4396 Ctra. Fuencarral Alcobendas Madrid\n",
      "TS                        0.00\n",
      "ELEMENT                   0.00\n",
      "NAME_CENTRO               0.00\n",
      "TAG_COMPRESOR1           96.50\n",
      "TAG_CONV_SONDA_ASP       56.95\n",
      "TAG_CONV_SONDA_COND      36.89\n",
      "TAG_POTENCIA_COMP1       90.92\n",
      "TAG_POTENCIA_COMP2       91.84\n",
      "TAG_POTENCIA_COMP3       92.26\n",
      "TAG_POTENCIA_COMP4       98.11\n",
      "TAG_SONDA_ASP            92.01\n",
      "TAG_SONDA_COND           81.46\n",
      "TAG_SONDA_TEMP_EXT       86.74\n",
      "TAG_SONDA_TEMP_SUBENF    42.03\n",
      "dtype: float64 \n",
      "\n",
      "Location:  C2533 Fuente De Los Cántaros Alcorcón Madrid\n",
      "TS                        0.00\n",
      "ELEMENT                   0.00\n",
      "NAME_CENTRO               0.00\n",
      "TAG_COMPRESOR1           97.34\n",
      "TAG_CONV_SONDA_ASP       45.28\n",
      "TAG_CONV_SONDA_COND      54.39\n",
      "TAG_POTENCIA_COMP1       88.14\n",
      "TAG_POTENCIA_COMP2       88.98\n",
      "TAG_POTENCIA_COMP3       89.12\n",
      "TAG_POTENCIA_COMP4       98.07\n",
      "TAG_SONDA_ASP            91.99\n",
      "TAG_SONDA_COND           87.69\n",
      "TAG_SONDA_TEMP_EXT       86.73\n",
      "TAG_SONDA_TEMP_SUBENF    31.69\n",
      "dtype: float64 \n",
      "\n",
      "Location:  C3853 Portal Tortosa Tortosa Tarragona\n",
      "TS                        0.00\n",
      "ELEMENT                   0.00\n",
      "NAME_CENTRO               0.00\n",
      "TAG_COMPRESOR1           88.98\n",
      "TAG_CONV_SONDA_ASP       46.91\n",
      "TAG_CONV_SONDA_COND      53.81\n",
      "TAG_POTENCIA_COMP1       84.04\n",
      "TAG_POTENCIA_COMP2       85.35\n",
      "TAG_POTENCIA_COMP3       86.90\n",
      "TAG_POTENCIA_COMP4       86.77\n",
      "TAG_SONDA_ASP            77.84\n",
      "TAG_SONDA_COND           66.28\n",
      "TAG_SONDA_TEMP_EXT       89.18\n",
      "TAG_SONDA_TEMP_SUBENF    64.57\n",
      "dtype: float64 \n",
      "\n",
      "Location:  C4042 Crta. Sentmenat Polinyà Barcelona\n",
      "TS                        0.00\n",
      "ELEMENT                   0.00\n",
      "NAME_CENTRO               0.00\n",
      "TAG_COMPRESOR1           93.58\n",
      "TAG_CONV_SONDA_ASP       46.31\n",
      "TAG_CONV_SONDA_COND      56.31\n",
      "TAG_POTENCIA_COMP1       89.01\n",
      "TAG_POTENCIA_COMP2       90.80\n",
      "TAG_POTENCIA_COMP3       91.74\n",
      "TAG_POTENCIA_COMP4       92.23\n",
      "TAG_SONDA_ASP            82.69\n",
      "TAG_SONDA_COND           75.15\n",
      "TAG_SONDA_TEMP_EXT       84.92\n",
      "TAG_SONDA_TEMP_SUBENF    66.25\n",
      "dtype: float64 \n",
      "\n",
      "Location:  C3634 Avda. de Los Poblados Madrid Madrid\n",
      "TS                        0.00\n",
      "ELEMENT                   0.00\n",
      "NAME_CENTRO               0.00\n",
      "TAG_COMPRESOR1           90.97\n",
      "TAG_CONV_SONDA_ASP       45.97\n",
      "TAG_CONV_SONDA_COND      53.98\n",
      "TAG_POTENCIA_COMP1       84.17\n",
      "TAG_POTENCIA_COMP2       88.37\n",
      "TAG_POTENCIA_COMP3       88.33\n",
      "TAG_POTENCIA_COMP4       90.89\n",
      "TAG_SONDA_ASP            80.47\n",
      "TAG_SONDA_COND           68.83\n",
      "TAG_SONDA_TEMP_EXT       89.38\n",
      "TAG_SONDA_TEMP_SUBENF    51.42\n",
      "dtype: float64 \n",
      "\n",
      "Location:  C3819 C.C. Serrallo Plaza Granada Granada\n",
      "TS                        0.00\n",
      "ELEMENT                   0.00\n",
      "NAME_CENTRO               0.00\n",
      "TAG_COMPRESOR1           89.84\n",
      "TAG_CONV_SONDA_ASP       46.92\n",
      "TAG_CONV_SONDA_COND      53.35\n",
      "TAG_POTENCIA_COMP1       83.70\n",
      "TAG_POTENCIA_COMP2       85.82\n",
      "TAG_POTENCIA_COMP3       88.61\n",
      "TAG_POTENCIA_COMP4       89.48\n",
      "TAG_SONDA_ASP            78.03\n",
      "TAG_SONDA_COND           66.48\n",
      "TAG_SONDA_TEMP_EXT       81.21\n",
      "TAG_SONDA_TEMP_SUBENF    64.64\n",
      "dtype: float64 \n",
      "\n",
      "Location:  C7005 Vermoim Maia Porto\n",
      "TS                        0.00\n",
      "ELEMENT                   0.00\n",
      "NAME_CENTRO               0.00\n",
      "TAG_COMPRESOR1           94.73\n",
      "TAG_CONV_SONDA_ASP       35.25\n",
      "TAG_CONV_SONDA_COND      35.51\n",
      "TAG_POTENCIA_COMP1       82.61\n",
      "TAG_POTENCIA_COMP2       83.70\n",
      "TAG_POTENCIA_COMP3       84.62\n",
      "TAG_POTENCIA_COMP4       98.20\n",
      "TAG_SONDA_ASP            92.17\n",
      "TAG_SONDA_COND           76.08\n",
      "TAG_SONDA_TEMP_EXT       85.62\n",
      "TAG_SONDA_TEMP_SUBENF    53.90\n",
      "dtype: float64 \n",
      "\n",
      "Location:  C3618 Fuente el Saz Fuente Saz de Jarama Madrid\n",
      "TS                        0.00\n",
      "ELEMENT                   0.00\n",
      "NAME_CENTRO               0.00\n",
      "TAG_COMPRESOR1           90.15\n",
      "TAG_CONV_SONDA_ASP       51.02\n",
      "TAG_CONV_SONDA_COND      50.27\n",
      "TAG_POTENCIA_COMP1       85.83\n",
      "TAG_POTENCIA_COMP2       87.66\n",
      "TAG_POTENCIA_COMP3       88.58\n",
      "TAG_POTENCIA_COMP4       90.16\n",
      "TAG_SONDA_ASP            87.69\n",
      "TAG_SONDA_COND           64.67\n",
      "TAG_SONDA_TEMP_EXT       77.29\n",
      "TAG_SONDA_TEMP_SUBENF    60.19\n",
      "dtype: float64 \n",
      "\n",
      "Location:  C2526 Avda. Andalucía Estepona Málaga\n",
      "TS                        0.00\n",
      "ELEMENT                   0.00\n",
      "NAME_CENTRO               0.00\n",
      "TAG_COMPRESOR1           83.09\n",
      "TAG_CONV_SONDA_ASP       43.40\n",
      "TAG_CONV_SONDA_COND      48.16\n",
      "TAG_POTENCIA_COMP1       82.32\n",
      "TAG_POTENCIA_COMP2       82.76\n",
      "TAG_POTENCIA_COMP3       84.60\n",
      "TAG_POTENCIA_COMP4       86.34\n",
      "TAG_SONDA_ASP            66.06\n",
      "TAG_SONDA_COND           62.79\n",
      "TAG_SONDA_TEMP_EXT       63.28\n",
      "TAG_SONDA_TEMP_SUBENF    64.78\n",
      "dtype: float64 \n",
      "\n",
      "Location:  C2835 Perafán De Rivera Sevilla Sevilla\n",
      "TS                        0.00\n",
      "ELEMENT                   0.00\n",
      "NAME_CENTRO               0.00\n",
      "TAG_COMPRESOR1           97.79\n",
      "TAG_CONV_SONDA_ASP       44.66\n",
      "TAG_CONV_SONDA_COND      70.87\n",
      "TAG_POTENCIA_COMP1       88.95\n",
      "TAG_POTENCIA_COMP2       89.36\n",
      "TAG_POTENCIA_COMP3       89.63\n",
      "TAG_POTENCIA_COMP4       98.25\n",
      "TAG_SONDA_ASP            92.90\n",
      "TAG_SONDA_COND           91.59\n",
      "TAG_SONDA_TEMP_EXT       32.98\n",
      "TAG_SONDA_TEMP_SUBENF    43.24\n",
      "dtype: float64 \n",
      "\n",
      "Location:  C4397 Ingeniero Susín Huesca Huesca\n",
      "TS                        0.00\n",
      "ELEMENT                   0.00\n",
      "NAME_CENTRO               0.00\n",
      "TAG_COMPRESOR1           91.11\n",
      "TAG_CONV_SONDA_ASP       37.90\n",
      "TAG_CONV_SONDA_COND      53.14\n",
      "TAG_POTENCIA_COMP1       78.47\n",
      "TAG_POTENCIA_COMP2       80.75\n",
      "TAG_POTENCIA_COMP3       84.08\n",
      "TAG_POTENCIA_COMP4       85.72\n",
      "TAG_SONDA_ASP            94.05\n",
      "TAG_SONDA_COND           89.12\n",
      "TAG_SONDA_TEMP_EXT       91.81\n",
      "TAG_SONDA_TEMP_SUBENF    52.69\n",
      "dtype: float64 \n",
      "\n",
      "Location:  C2375 Marcos De Torniello Aviles Asturias\n",
      "TS                        0.00\n",
      "ELEMENT                   0.00\n",
      "NAME_CENTRO               0.00\n",
      "TAG_COMPRESOR1           93.51\n",
      "TAG_CONV_SONDA_ASP       38.38\n",
      "TAG_CONV_SONDA_COND      61.51\n",
      "TAG_POTENCIA_COMP1       83.37\n",
      "TAG_POTENCIA_COMP2       84.40\n",
      "TAG_POTENCIA_COMP3       87.28\n",
      "TAG_POTENCIA_COMP4       87.90\n",
      "TAG_SONDA_ASP            94.24\n",
      "TAG_SONDA_COND           88.33\n",
      "TAG_SONDA_TEMP_EXT       86.72\n",
      "TAG_SONDA_TEMP_SUBENF    67.85\n",
      "dtype: float64 \n",
      "\n",
      "Location:  C2462 Calp Calp Alacant\n",
      "TS                        0.00\n",
      "ELEMENT                   0.00\n",
      "NAME_CENTRO               0.00\n",
      "TAG_COMPRESOR1           88.88\n",
      "TAG_CONV_SONDA_ASP       46.82\n",
      "TAG_CONV_SONDA_COND      66.98\n",
      "TAG_POTENCIA_COMP1       75.23\n",
      "TAG_POTENCIA_COMP2       79.43\n",
      "TAG_POTENCIA_COMP3       82.20\n",
      "TAG_POTENCIA_COMP4       98.22\n",
      "TAG_SONDA_ASP            92.73\n",
      "TAG_SONDA_COND           90.72\n",
      "TAG_SONDA_TEMP_EXT       81.60\n",
      "TAG_SONDA_TEMP_SUBENF    51.69\n",
      "dtype: float64 \n",
      "\n",
      "Location:  C3072 Carlos I de España Dos Hermanas Sevilla\n",
      "TS                        0.00\n",
      "ELEMENT                   0.00\n",
      "NAME_CENTRO               0.00\n",
      "TAG_COMPRESOR1           87.20\n",
      "TAG_CONV_SONDA_ASP       41.65\n",
      "TAG_CONV_SONDA_COND      69.47\n",
      "TAG_POTENCIA_COMP1       73.08\n",
      "TAG_POTENCIA_COMP2       77.33\n",
      "TAG_POTENCIA_COMP3       80.67\n",
      "TAG_POTENCIA_COMP4       83.29\n",
      "TAG_SONDA_ASP            93.22\n",
      "TAG_SONDA_COND           89.93\n",
      "TAG_SONDA_TEMP_EXT       46.35\n",
      "TAG_SONDA_TEMP_SUBENF    61.55\n",
      "dtype: float64 \n",
      "\n",
      "Location:  C4149  La Pedrosa Masquefa Barcelona\n",
      "TS                        0.00\n",
      "ELEMENT                   0.00\n",
      "NAME_CENTRO               0.00\n",
      "TAG_COMPRESOR1           90.97\n",
      "TAG_CONV_SONDA_ASP       51.05\n",
      "TAG_CONV_SONDA_COND      57.82\n",
      "TAG_POTENCIA_COMP1       86.62\n",
      "TAG_POTENCIA_COMP2       87.22\n",
      "TAG_POTENCIA_COMP3       86.52\n",
      "TAG_POTENCIA_COMP4       88.89\n",
      "TAG_SONDA_ASP            79.12\n",
      "TAG_SONDA_COND           70.50\n",
      "TAG_SONDA_TEMP_EXT       83.17\n",
      "TAG_SONDA_TEMP_SUBENF    65.08\n",
      "dtype: float64 \n",
      "\n",
      "Location:  C3538 Plaza Mayor Málaga Málaga\n",
      "TS                        0.00\n",
      "ELEMENT                   0.00\n",
      "NAME_CENTRO               0.00\n",
      "TAG_COMPRESOR1           90.28\n",
      "TAG_CONV_SONDA_ASP       54.39\n",
      "TAG_CONV_SONDA_COND      62.19\n",
      "TAG_POTENCIA_COMP1       86.16\n",
      "TAG_POTENCIA_COMP2       86.22\n",
      "TAG_POTENCIA_COMP3       86.70\n",
      "TAG_POTENCIA_COMP4       87.26\n",
      "TAG_SONDA_ASP            77.15\n",
      "TAG_SONDA_COND           76.11\n",
      "TAG_SONDA_TEMP_EXT       80.07\n",
      "TAG_SONDA_TEMP_SUBENF    68.92\n",
      "dtype: float64 \n",
      "\n",
      "Location:  C3769 Crta. Palma Del Rio Córdoba Córdoba\n",
      "TS                        0.00\n",
      "ELEMENT                   0.00\n",
      "NAME_CENTRO               0.00\n",
      "TAG_COMPRESOR1           88.40\n",
      "TAG_CONV_SONDA_ASP       45.20\n",
      "TAG_CONV_SONDA_COND      46.71\n",
      "TAG_POTENCIA_COMP1       82.78\n",
      "TAG_POTENCIA_COMP2       83.28\n",
      "TAG_POTENCIA_COMP3       85.29\n",
      "TAG_POTENCIA_COMP4       87.32\n",
      "TAG_SONDA_ASP            59.09\n",
      "TAG_SONDA_COND           52.46\n",
      "TAG_SONDA_TEMP_EXT       61.00\n",
      "TAG_SONDA_TEMP_SUBENF    87.54\n",
      "dtype: float64 \n",
      "\n",
      "Location:  C3532 Polígono La Vila Xàtiva Valencia\n",
      "TS                        0.00\n",
      "ELEMENT                   0.00\n",
      "NAME_CENTRO               0.00\n",
      "TAG_COMPRESOR1           88.08\n",
      "TAG_CONV_SONDA_ASP       42.22\n",
      "TAG_CONV_SONDA_COND      56.41\n",
      "TAG_POTENCIA_COMP1       74.11\n",
      "TAG_POTENCIA_COMP2       77.41\n",
      "TAG_POTENCIA_COMP3       81.69\n",
      "TAG_POTENCIA_COMP4       83.71\n",
      "TAG_SONDA_ASP            93.05\n",
      "TAG_SONDA_COND           82.74\n",
      "TAG_SONDA_TEMP_EXT       74.49\n",
      "TAG_SONDA_TEMP_SUBENF    72.67\n",
      "dtype: float64 \n",
      "\n",
      "Location:  C2947 Cortijo del Sol Alhaurín de la Torre Málaga\n",
      "TS                        0.00\n",
      "ELEMENT                   0.00\n",
      "NAME_CENTRO               0.00\n",
      "TAG_COMPRESOR1           85.33\n",
      "TAG_CONV_SONDA_ASP       48.23\n",
      "TAG_CONV_SONDA_COND      56.72\n",
      "TAG_POTENCIA_COMP1       81.61\n",
      "TAG_POTENCIA_COMP2       83.31\n",
      "TAG_POTENCIA_COMP3       83.58\n",
      "TAG_POTENCIA_COMP4       91.54\n",
      "TAG_SONDA_ASP            68.42\n",
      "TAG_SONDA_COND           72.57\n",
      "TAG_SONDA_TEMP_EXT       88.80\n",
      "TAG_SONDA_TEMP_SUBENF    68.83\n",
      "dtype: float64 \n",
      "\n",
      "Location:  C3636 Avda. de la Sierra SS de los Reyes Madrid\n",
      "TS                        0.00\n",
      "ELEMENT                   0.00\n",
      "NAME_CENTRO               0.00\n",
      "TAG_COMPRESOR1           86.30\n",
      "TAG_CONV_SONDA_ASP       49.07\n",
      "TAG_CONV_SONDA_COND      59.83\n",
      "TAG_POTENCIA_COMP1       79.72\n",
      "TAG_POTENCIA_COMP2       84.36\n",
      "TAG_POTENCIA_COMP3       85.64\n",
      "TAG_POTENCIA_COMP4       96.65\n",
      "TAG_SONDA_ASP            88.11\n",
      "TAG_SONDA_COND           74.03\n",
      "TAG_SONDA_TEMP_EXT       81.64\n",
      "TAG_SONDA_TEMP_SUBENF    66.92\n",
      "dtype: float64 \n",
      "\n"
     ]
    }
   ],
   "source": [
    "cycles = df_Central2['NAME_CENTRO'].unique()\n",
    "for i, val in enumerate(cycles):\n",
    "    print(\"Location: \",val)\n",
    "    df_loop = df_Central2.loc[df_Central2['NAME_CENTRO'] == (val)]\n",
    "    print(round(df_loop.isnull().mean()*100,2),  '\\n' )"
   ]
  },
  {
   "cell_type": "code",
   "execution_count": 12,
   "metadata": {},
   "outputs": [],
   "source": [
    "path = \"gs://mdona-cloud-lab-ctrlsenales-bucket/PIC_TRACK_ALARMS.csv\"\n",
    "df_Alarms = pd.read_csv(path)\n",
    "\n",
    "def Alarm_Detection( df_Alarms ):\n",
    "    import pandas as pd\n",
    "\n",
    "    df_Alarms = df_Alarms[df_Alarms['ID'] == 'Alarma Alta Temperatura en servicio']\n",
    "\n",
    "    df_Alarms = df_Alarms[['IDEquipo']+['TS']+['Type']+['Equipo']+['Centro']+['IDCentro']+['IDZona']]\n",
    "\n",
    "\n",
    "\n",
    "    df_Alarms = df_Alarms[df_Alarms['Equipo'].str.contains(\"Mural Carne|Mural Pescado\")]\n",
    "\n",
    "    df_Alarms.columns = ['ELEMENT', 'TS','ALTA_TEMPERATURA', 'Equipo', 'Centro', 'IDCentro', 'IDZona']\n",
    "\n",
    "\n",
    "\n",
    "\n",
    "    #tranform the column TS to a datetime Object\n",
    "    df_Alarms['TS'] = pd.to_datetime(df_Alarms['TS'], infer_datetime_format=True)\n",
    "\n",
    "    first = df_Alarms['TS'].min()\n",
    "    #Sort the values by the time\n",
    "    df_Alarms = df_Alarms.sort_values(['ELEMENT','TS'], ascending=[ True, True]).reset_index(drop=True)\n",
    "\n",
    "    #cols=list(df_Alarms.columns)\n",
    "\n",
    "    #df_Alarms = df_Alarms[cols[0:2]+[cols[4]]]\n",
    "\n",
    "\n",
    "    df_Alarms = df_Alarms.dropna().reset_index(drop=True)\n",
    "\n",
    "    #papa pa paaaannnnnnnnnnnnnnnnnnnnnnnnnn\n",
    "    #Check if the Begin was 'InhibitNotif' before the event occurred\n",
    "    #Create a \"new\" column to indicate if it is an alarm or an alarm inhibited by user (on these cases it will have TRUE)\n",
    "\n",
    "    for i, row  in df_Alarms.iterrows():\n",
    "        if (df_Alarms.loc[i,'ALTA_TEMPERATURA']) =='Begin' and  (df_Alarms.loc[i-1,'ALTA_TEMPERATURA'])!='InhibitNotif':\n",
    "            df_Alarms.at[i,'new'] = 'True'\n",
    "        elif (df_Alarms.loc[i,'ALTA_TEMPERATURA']) =='Begin' and  (df_Alarms.loc[i-1,'ALTA_TEMPERATURA'])=='InhibitNotif':\n",
    "            df_Alarms.at[i,'new'] = 'True but InhibitNotif by user'\n",
    "        else:\n",
    "            df_Alarms.at[i,'new'] = 'False'      \n",
    "\n",
    "    df_InhibitAlarms = df_Alarms[df_Alarms['new'] == 'True but InhibitNotif by user']\n",
    "    df_Alarms = df_Alarms[(df_Alarms['new'] == 'True') | (df_Alarms['new'] == 'True but InhibitNotif by user')]\n",
    "\n",
    "    #df_Alarms = df_Alarms.drop('new', axis=1).reset_index(drop=True)\n",
    "    df_Alarms = df_Alarms.sort_values(['ELEMENT','TS'], ascending=[ True, True]).reset_index(drop=True)\n",
    "\n",
    "    #Check is the prior event occurred in a especific time\n",
    "    '''\n",
    "\n",
    "    for i in range(len(df_Alarms)):\n",
    "        if i == 0: continue\n",
    "        timedelta =((df_Alarms.loc[i,'TS'])-(df_Alarms.loc[i-1,'TS'])).days\n",
    "        print(\"Es el mismo elemento que el anterior \", (df_Alarms.loc[i,'ELEMENT']) == (df_Alarms.loc[i-1,'ELEMENT']))\n",
    "        print(\"Time Delta = \",timedelta)\n",
    "    '''\n",
    "\n",
    "    #Add a new column \"new2\" to indicate if there isn't any previous alarm in Days_before days\n",
    "    #We discard the alarms that had another alarm in the Days_before previous days.\n",
    "    \n",
    "    for i, row  in df_Alarms.iterrows():\n",
    "        Days_before = 11\n",
    "        if i == 0:\n",
    "            df_Alarms.at[i,'new2'] = 'True'\n",
    "        elif (df_Alarms.loc[i,'ELEMENT']) == (df_Alarms.loc[i-1,'ELEMENT']):\n",
    "            if ((df_Alarms.loc[i,'TS'])-(df_Alarms.loc[i-1,'TS'])).days >= Days_before:\n",
    "                df_Alarms.at[i,'new2'] = 'True'\n",
    "            else:\n",
    "                df_Alarms.at[i,'new2'] = 'Too Short' \n",
    "        else:\n",
    "            df_Alarms.at[i,'new2'] = 'True'\n",
    "\n",
    "    df_Tooshort = df_Alarms[df_Alarms['new2'] == 'Too Short' ]\n",
    "    \n",
    "\n",
    "    \n",
    "    df_Alarms = df_Alarms[df_Alarms['new'] == 'True']\n",
    "    df_Alarms = df_Alarms[df_Alarms['new2'] == 'True']\n",
    "\n",
    "    df_Alarms = df_Alarms.drop('new', axis=1).reset_index(drop=True)\n",
    "    df_Alarms = df_Alarms.drop('new2', axis=1).reset_index(drop=True)\n",
    "    df_Alarms = df_Alarms.sort_values(['ELEMENT','TS'], ascending=[ True, True]).reset_index(drop=True)\n",
    "\n",
    "    #to check if the timedelta between the first event and the alarm is more than 15days \n",
    "\n",
    "\n",
    "    for i, row  in df_Alarms.iterrows():\n",
    "        Days_From_beginning = 15\n",
    "        if ((df_Alarms.loc[i,'TS'])-first).days >= Days_From_beginning:\n",
    "            df_Alarms.at[i,'new'] = 'True'\n",
    "        else:\n",
    "            df_Alarms.at[i,'new'] = 'Not enough data' \n",
    "\n",
    "    df_Not_enough = df_Alarms[df_Alarms['new'] == 'Not enough data' ]\n",
    "\n",
    "    \n",
    "\n",
    "    df_Alarms = df_Alarms[df_Alarms['new'] == 'True']\n",
    "    df_Alarms = df_Alarms.drop('new', axis=1).reset_index(drop=True)\n",
    "    df_Alarms = df_Alarms.sort_values(['TS','ELEMENT'], ascending=[ True, True]).reset_index(drop=True)\n",
    "    \n",
    "    \n",
    "    df_Alarms = df_Alarms.sort_values(['ELEMENT', 'TS'], ascending=[True, True]).reset_index(drop=True)\n",
    "    \n",
    "    #keep only the colums element, timestand and alarm\n",
    "    df_Alarms = df_Alarms[['ELEMENT']+['TS']+['ALTA_TEMPERATURA']]\n",
    "    \n",
    "    \n",
    "    #create a new row with a ten days prior the begin date\n",
    "    for i in range(len(df_Alarms)):\n",
    "        timeframe = df_Alarms.loc[i, 'TS'] - relativedelta(days=15)\n",
    "        df_Alarms = df_Alarms.append({'TS':timeframe,'ELEMENT':(df_Alarms.loc[i, 'ELEMENT']),'ALTA_TEMPERATURA':'Start'}, ignore_index=True)\n",
    "    \n",
    "    df_Alarms = df_Alarms.sort_values(['ELEMENT', 'TS'], ascending=[True, True]).reset_index(drop=True)\n",
    "    \n",
    "    #create new column called cycle_number to difference the different cycles\n",
    "    df_Alarms['cycle_number'] = df_Alarms['ALTA_TEMPERATURA'].map({'Start':0, 'Begin':1}).diff().lt(0).cumsum() + 1 \n",
    "    df_Alarms= df_Alarms.drop(['ALTA_TEMPERATURA'], axis=1).reset_index(drop=True)\n",
    "\n",
    "    \n",
    "    return(df_Alarms)\n",
    "\n",
    "\n",
    "#The function that apply the filter modifications to the dataset\n",
    "df_Alarms = Alarm_Detection(df_Alarms)"
   ]
  },
  {
   "cell_type": "code",
   "execution_count": 19,
   "metadata": {},
   "outputs": [
    {
     "name": "stdout",
     "output_type": "stream",
     "text": [
      "Count of elements:  139\n",
      "[ 29115  31002  31078  31134  31194  31545  31546  31548  31558  31689\n",
      "  33556  33557  33558  43788  43789  44601  44602  44603  47353  49090\n",
      "  49091  51140  51141  51143  53050  53051  53052  53053  53060  53061\n",
      "  54695  54696  54781  54783  54784  54785  60269  60270  60271  60272\n",
      "  60273  61394  61395  61407  68410  70950  71312  71313  71314  71315\n",
      "  73666  74504  74715  74726  75214  75218  76733  76736  80504  80505\n",
      "  81165  86175  87826  87827  87828  87829  87962  87964  87966  87967\n",
      "  88221  88222  88224  88233  88234  89100  90398  90399  90400  90933\n",
      "  91505  92055  92056  92057  92058  92059  92072  92073  92129  92201\n",
      "  92323  92324  92325  92326  92327  92339  92340  92406  95992  96309\n",
      "  98018  98021  99657  99658  99659  99660 100880 101359 101360 101361\n",
      " 101362 102521 103396 103397 103398 105744 105745 105746 105747 105757\n",
      " 105758 115853 119670 121643 129974 129990 130066 130166 130852 131573\n",
      " 132240 132912 137791 140805 140806 142489 144545 144630 153705]\n"
     ]
    }
   ],
   "source": [
    "elements_alarms= df_Alarms['ELEMENT'].unique()\n",
    "print(\"Count of elements: \",len(df_Alarms['ELEMENT'].unique()))\n",
    "print(elements_alarms)"
   ]
  },
  {
   "cell_type": "code",
   "execution_count": 7,
   "metadata": {},
   "outputs": [
    {
     "data": {
      "text/html": [
       "<div>\n",
       "<style scoped>\n",
       "    .dataframe tbody tr th:only-of-type {\n",
       "        vertical-align: middle;\n",
       "    }\n",
       "\n",
       "    .dataframe tbody tr th {\n",
       "        vertical-align: top;\n",
       "    }\n",
       "\n",
       "    .dataframe thead th {\n",
       "        text-align: right;\n",
       "    }\n",
       "</style>\n",
       "<table border=\"1\" class=\"dataframe\">\n",
       "  <thead>\n",
       "    <tr style=\"text-align: right;\">\n",
       "      <th></th>\n",
       "      <th>ID_ELEMENT</th>\n",
       "      <th>ID_LOCATION</th>\n",
       "      <th>DESCRIPTION_LOCATION</th>\n",
       "    </tr>\n",
       "  </thead>\n",
       "  <tbody>\n",
       "    <tr>\n",
       "      <th>0</th>\n",
       "      <td>72333</td>\n",
       "      <td>72204</td>\n",
       "      <td>None</td>\n",
       "    </tr>\n",
       "    <tr>\n",
       "      <th>1</th>\n",
       "      <td>72394</td>\n",
       "      <td>72271</td>\n",
       "      <td>None</td>\n",
       "    </tr>\n",
       "    <tr>\n",
       "      <th>2</th>\n",
       "      <td>72381</td>\n",
       "      <td>72256</td>\n",
       "      <td>None</td>\n",
       "    </tr>\n",
       "    <tr>\n",
       "      <th>3</th>\n",
       "      <td>72382</td>\n",
       "      <td>72256</td>\n",
       "      <td>None</td>\n",
       "    </tr>\n",
       "    <tr>\n",
       "      <th>4</th>\n",
       "      <td>72399</td>\n",
       "      <td>72276</td>\n",
       "      <td>None</td>\n",
       "    </tr>\n",
       "  </tbody>\n",
       "</table>\n",
       "</div>"
      ],
      "text/plain": [
       "   ID_ELEMENT  ID_LOCATION DESCRIPTION_LOCATION\n",
       "0       72333        72204                 None\n",
       "1       72394        72271                 None\n",
       "2       72381        72256                 None\n",
       "3       72382        72256                 None\n",
       "4       72399        72276                 None"
      ]
     },
     "execution_count": 7,
     "metadata": {},
     "output_type": "execute_result"
    }
   ],
   "source": [
    "query = \"\"\"\n",
    "SELECT\n",
    "  ID_ELEMENT,\n",
    "  ID_LOCATION,\n",
    "  DESCRIPTION_LOCATION,\n",
    "  \n",
    "FROM\n",
    "  `mdona-cloud-labpri-ctrlsenales.DAN_PIC_Europe.PIC_ELEMENT_LOCATION` \n",
    "\n",
    "  \n",
    "        \"\"\"\n",
    "#client = bigquery.Client(location=\"EU\", project=\"mdona-cloud-labpri-ctrlsenales\")\n",
    "\n",
    "\n",
    "query_job = client.query(query,location=\"EU\") \n",
    "\n",
    "df_location = query_job.to_dataframe()\n",
    "df_location.head()"
   ]
  },
  {
   "cell_type": "code",
   "execution_count": 21,
   "metadata": {},
   "outputs": [
    {
     "name": "stdout",
     "output_type": "stream",
     "text": [
      "Count of elements:  112153\n",
      "Count of Locations:  2905\n"
     ]
    }
   ],
   "source": [
    "elements_total= df_location['ID_ELEMENT'].unique()\n",
    "Location_total= df_location['ID_LOCATION'].unique()\n",
    "print(\"Count of elements: \",len(elements_total))\n",
    "print(\"Count of Locations: \",len(Location_total))\n",
    "\n",
    "#print(elements_alarms)"
   ]
  },
  {
   "cell_type": "code",
   "execution_count": 23,
   "metadata": {},
   "outputs": [
    {
     "data": {
      "text/html": [
       "<div>\n",
       "<style scoped>\n",
       "    .dataframe tbody tr th:only-of-type {\n",
       "        vertical-align: middle;\n",
       "    }\n",
       "\n",
       "    .dataframe tbody tr th {\n",
       "        vertical-align: top;\n",
       "    }\n",
       "\n",
       "    .dataframe thead th {\n",
       "        text-align: right;\n",
       "    }\n",
       "</style>\n",
       "<table border=\"1\" class=\"dataframe\">\n",
       "  <thead>\n",
       "    <tr style=\"text-align: right;\">\n",
       "      <th></th>\n",
       "      <th>ELEMENT</th>\n",
       "      <th>TS</th>\n",
       "      <th>cycle_number</th>\n",
       "      <th>ID_LOCATION</th>\n",
       "    </tr>\n",
       "  </thead>\n",
       "  <tbody>\n",
       "    <tr>\n",
       "      <th>0</th>\n",
       "      <td>29115</td>\n",
       "      <td>2019-02-22 14:48:09</td>\n",
       "      <td>1</td>\n",
       "      <td>29100</td>\n",
       "    </tr>\n",
       "    <tr>\n",
       "      <th>1</th>\n",
       "      <td>29115</td>\n",
       "      <td>2019-03-09 14:48:09</td>\n",
       "      <td>1</td>\n",
       "      <td>29100</td>\n",
       "    </tr>\n",
       "    <tr>\n",
       "      <th>2</th>\n",
       "      <td>31002</td>\n",
       "      <td>2019-03-05 09:11:00</td>\n",
       "      <td>2</td>\n",
       "      <td>30998</td>\n",
       "    </tr>\n",
       "    <tr>\n",
       "      <th>3</th>\n",
       "      <td>31002</td>\n",
       "      <td>2019-03-20 09:11:00</td>\n",
       "      <td>2</td>\n",
       "      <td>30998</td>\n",
       "    </tr>\n",
       "    <tr>\n",
       "      <th>4</th>\n",
       "      <td>31078</td>\n",
       "      <td>2019-05-29 09:54:00</td>\n",
       "      <td>3</td>\n",
       "      <td>31061</td>\n",
       "    </tr>\n",
       "    <tr>\n",
       "      <th>...</th>\n",
       "      <td>...</td>\n",
       "      <td>...</td>\n",
       "      <td>...</td>\n",
       "      <td>...</td>\n",
       "    </tr>\n",
       "    <tr>\n",
       "      <th>311</th>\n",
       "      <td>144545</td>\n",
       "      <td>2020-03-30 00:45:00</td>\n",
       "      <td>155</td>\n",
       "      <td>144541</td>\n",
       "    </tr>\n",
       "    <tr>\n",
       "      <th>312</th>\n",
       "      <td>144630</td>\n",
       "      <td>2020-02-07 22:59:00</td>\n",
       "      <td>156</td>\n",
       "      <td>144625</td>\n",
       "    </tr>\n",
       "    <tr>\n",
       "      <th>313</th>\n",
       "      <td>144630</td>\n",
       "      <td>2020-02-22 22:59:00</td>\n",
       "      <td>156</td>\n",
       "      <td>144625</td>\n",
       "    </tr>\n",
       "    <tr>\n",
       "      <th>314</th>\n",
       "      <td>153705</td>\n",
       "      <td>2020-04-17 17:14:00</td>\n",
       "      <td>157</td>\n",
       "      <td>65423</td>\n",
       "    </tr>\n",
       "    <tr>\n",
       "      <th>315</th>\n",
       "      <td>153705</td>\n",
       "      <td>2020-05-02 17:14:00</td>\n",
       "      <td>157</td>\n",
       "      <td>65423</td>\n",
       "    </tr>\n",
       "  </tbody>\n",
       "</table>\n",
       "<p>316 rows × 4 columns</p>\n",
       "</div>"
      ],
      "text/plain": [
       "     ELEMENT                  TS  cycle_number  ID_LOCATION\n",
       "0      29115 2019-02-22 14:48:09             1        29100\n",
       "1      29115 2019-03-09 14:48:09             1        29100\n",
       "2      31002 2019-03-05 09:11:00             2        30998\n",
       "3      31002 2019-03-20 09:11:00             2        30998\n",
       "4      31078 2019-05-29 09:54:00             3        31061\n",
       "..       ...                 ...           ...          ...\n",
       "311   144545 2020-03-30 00:45:00           155       144541\n",
       "312   144630 2020-02-07 22:59:00           156       144625\n",
       "313   144630 2020-02-22 22:59:00           156       144625\n",
       "314   153705 2020-04-17 17:14:00           157        65423\n",
       "315   153705 2020-05-02 17:14:00           157        65423\n",
       "\n",
       "[316 rows x 4 columns]"
      ]
     },
     "execution_count": 23,
     "metadata": {},
     "output_type": "execute_result"
    }
   ],
   "source": [
    "df_Alarms  = df_Alarms.merge(df_location, left_on='ELEMENT', right_on='ID_ELEMENT',  how='left').drop(['ID_ELEMENT'], 1)\n",
    "df_Alarms"
   ]
  },
  {
   "cell_type": "code",
   "execution_count": 25,
   "metadata": {},
   "outputs": [
    {
     "name": "stdout",
     "output_type": "stream",
     "text": [
      "Count of elements in alarms:  139\n",
      "Count of Locations in alarms:  66\n"
     ]
    }
   ],
   "source": [
    "elements_alarms= df_Alarms['ELEMENT'].unique()\n",
    "Location_alarms= df_Alarms['ID_LOCATION'].unique()\n",
    "print(\"Count of elements in alarms: \",len(elements_alarms))\n",
    "print(\"Count of Locations in alarms: \",len(Location_alarms))"
   ]
  },
  {
   "cell_type": "markdown",
   "metadata": {},
   "source": [
    "import the locations of the variable dataset"
   ]
  },
  {
   "cell_type": "code",
   "execution_count": 26,
   "metadata": {},
   "outputs": [],
   "source": [
    "path = \"gs://mdona-cloud-lab-ctrlsenales-bucket/Elementsbylocaion148.csv\"\n",
    "df_variables = pd.read_csv(path)"
   ]
  },
  {
   "cell_type": "code",
   "execution_count": 27,
   "metadata": {},
   "outputs": [
    {
     "name": "stdout",
     "output_type": "stream",
     "text": [
      "Count of elements in alarms:  149\n",
      "Count of Locations in alarms:  72\n"
     ]
    }
   ],
   "source": [
    "elements_Variables= df_variables['ELEMENT'].unique()\n",
    "Location_Variables= df_variables['ID_LOCATION'].unique()\n",
    "print(\"Count of elements in alarms: \",len(elements_Variables))\n",
    "print(\"Count of Locations in alarms: \",len(Location_Variables))"
   ]
  },
  {
   "cell_type": "code",
   "execution_count": 30,
   "metadata": {},
   "outputs": [
    {
     "name": "stdout",
     "output_type": "stream",
     "text": [
      "this are the excuded elements with no alarms:  [139456, 31616, 31617, 121641, 109961, 134349, 31183, 64371, 87766, 51735, 51736, 51737, 51738, 31615]\n"
     ]
    }
   ],
   "source": [
    "print(\"this are the excluded elements from the variable with no alarms: \" ,list(set(elements_Variables) - set(elements_alarms)))\n",
    "\n"
   ]
  },
  {
   "cell_type": "code",
   "execution_count": null,
   "metadata": {},
   "outputs": [],
   "source": []
  },
  {
   "cell_type": "code",
   "execution_count": null,
   "metadata": {},
   "outputs": [],
   "source": [
    "df_Central2  = df_Central.merge(df_location, left_on='NAME_CENTRO', right_on='DESCRIPTION_LOCATION',  how='left').drop(['DESCRIPTION_LOCATION'], 1)\n",
    "\n",
    "\n",
    "Location_central= df_Central2['ID_LOCATION'].unique()\n",
    "print(\"Count of Locations: \",len(Location_total))\n"
   ]
  },
  {
   "cell_type": "code",
   "execution_count": null,
   "metadata": {},
   "outputs": [],
   "source": []
  },
  {
   "cell_type": "code",
   "execution_count": null,
   "metadata": {},
   "outputs": [],
   "source": [
    "print(\"this are the excluded elements from the central de frio with no alarms: \" ,list(set(Location_central) - set(Location_alarms)))\n"
   ]
  },
  {
   "cell_type": "code",
   "execution_count": null,
   "metadata": {},
   "outputs": [],
   "source": []
  },
  {
   "cell_type": "code",
   "execution_count": null,
   "metadata": {},
   "outputs": [],
   "source": []
  },
  {
   "cell_type": "code",
   "execution_count": null,
   "metadata": {},
   "outputs": [],
   "source": []
  },
  {
   "cell_type": "markdown",
   "metadata": {},
   "source": [
    "Drop the columns ['TAG_EQUIPO_STANDBY', 'TAG_COMUNICA','TAG_ALARMA']"
   ]
  },
  {
   "cell_type": "code",
   "execution_count": 9,
   "metadata": {},
   "outputs": [],
   "source": [
    "#locations = df_Central['NAME_CENTRO'].unique()\n",
    "#print(locations)\n",
    "#print(locations.shape)"
   ]
  },
  {
   "cell_type": "markdown",
   "metadata": {},
   "source": [
    "Join the row with the same timestamp "
   ]
  },
  {
   "cell_type": "code",
   "execution_count": 10,
   "metadata": {},
   "outputs": [],
   "source": []
  },
  {
   "cell_type": "code",
   "execution_count": 11,
   "metadata": {},
   "outputs": [
    {
     "data": {
      "text/html": [
       "<div>\n",
       "<style scoped>\n",
       "    .dataframe tbody tr th:only-of-type {\n",
       "        vertical-align: middle;\n",
       "    }\n",
       "\n",
       "    .dataframe tbody tr th {\n",
       "        vertical-align: top;\n",
       "    }\n",
       "\n",
       "    .dataframe thead th {\n",
       "        text-align: right;\n",
       "    }\n",
       "</style>\n",
       "<table border=\"1\" class=\"dataframe\">\n",
       "  <thead>\n",
       "    <tr style=\"text-align: right;\">\n",
       "      <th></th>\n",
       "      <th>NAME_CENTRO</th>\n",
       "      <th>TS</th>\n",
       "      <th>ELEMENT</th>\n",
       "      <th>TAG_ALARMA</th>\n",
       "      <th>TAG_COMPRESOR1</th>\n",
       "      <th>TAG_COMPRESOR2</th>\n",
       "      <th>TAG_COMPRESOR3</th>\n",
       "      <th>TAG_COMPRESOR4</th>\n",
       "      <th>TAG_COMPRESOR5</th>\n",
       "      <th>TAG_COMPRESOR6</th>\n",
       "      <th>...</th>\n",
       "      <th>TAG_SETPOINT_COND</th>\n",
       "      <th>TAG_SONDA_ASP</th>\n",
       "      <th>TAG_SONDA_COND</th>\n",
       "      <th>TAG_SONDA_TEMP_EXT</th>\n",
       "      <th>TAG_SONDA_TEMP_SUBENF</th>\n",
       "      <th>TAG_VENTILADOR1</th>\n",
       "      <th>TAG_VENTILADOR2</th>\n",
       "      <th>TAG_VENTILADOR3</th>\n",
       "      <th>TAG_VENTILADOR4</th>\n",
       "      <th>TAG_VENTILADOR5</th>\n",
       "    </tr>\n",
       "  </thead>\n",
       "  <tbody>\n",
       "    <tr>\n",
       "      <th>0</th>\n",
       "      <td>C2010 Av. Del Parque Lucena Córdoba</td>\n",
       "      <td>2018-12-14 00:00:54</td>\n",
       "      <td>31049.0</td>\n",
       "      <td>NaN</td>\n",
       "      <td>NaN</td>\n",
       "      <td>NaN</td>\n",
       "      <td>NaN</td>\n",
       "      <td>NaN</td>\n",
       "      <td>NaN</td>\n",
       "      <td>NaN</td>\n",
       "      <td>...</td>\n",
       "      <td>NaN</td>\n",
       "      <td>2.42</td>\n",
       "      <td>NaN</td>\n",
       "      <td>10.9</td>\n",
       "      <td>18.000000</td>\n",
       "      <td>NaN</td>\n",
       "      <td>NaN</td>\n",
       "      <td>NaN</td>\n",
       "      <td>NaN</td>\n",
       "      <td>NaN</td>\n",
       "    </tr>\n",
       "    <tr>\n",
       "      <th>1</th>\n",
       "      <td>C2010 Av. Del Parque Lucena Córdoba</td>\n",
       "      <td>2018-12-14 00:01:34</td>\n",
       "      <td>31049.0</td>\n",
       "      <td>NaN</td>\n",
       "      <td>NaN</td>\n",
       "      <td>NaN</td>\n",
       "      <td>NaN</td>\n",
       "      <td>NaN</td>\n",
       "      <td>NaN</td>\n",
       "      <td>0.0</td>\n",
       "      <td>...</td>\n",
       "      <td>NaN</td>\n",
       "      <td>NaN</td>\n",
       "      <td>NaN</td>\n",
       "      <td>NaN</td>\n",
       "      <td>NaN</td>\n",
       "      <td>NaN</td>\n",
       "      <td>NaN</td>\n",
       "      <td>NaN</td>\n",
       "      <td>NaN</td>\n",
       "      <td>NaN</td>\n",
       "    </tr>\n",
       "    <tr>\n",
       "      <th>2</th>\n",
       "      <td>C2010 Av. Del Parque Lucena Córdoba</td>\n",
       "      <td>2018-12-14 00:01:55</td>\n",
       "      <td>31049.0</td>\n",
       "      <td>NaN</td>\n",
       "      <td>NaN</td>\n",
       "      <td>NaN</td>\n",
       "      <td>NaN</td>\n",
       "      <td>NaN</td>\n",
       "      <td>NaN</td>\n",
       "      <td>NaN</td>\n",
       "      <td>...</td>\n",
       "      <td>NaN</td>\n",
       "      <td>NaN</td>\n",
       "      <td>10.1</td>\n",
       "      <td>NaN</td>\n",
       "      <td>NaN</td>\n",
       "      <td>NaN</td>\n",
       "      <td>NaN</td>\n",
       "      <td>NaN</td>\n",
       "      <td>NaN</td>\n",
       "      <td>NaN</td>\n",
       "    </tr>\n",
       "    <tr>\n",
       "      <th>3</th>\n",
       "      <td>C2010 Av. Del Parque Lucena Córdoba</td>\n",
       "      <td>2018-12-14 00:02:17</td>\n",
       "      <td>31049.0</td>\n",
       "      <td>NaN</td>\n",
       "      <td>NaN</td>\n",
       "      <td>1.0</td>\n",
       "      <td>NaN</td>\n",
       "      <td>1.0</td>\n",
       "      <td>NaN</td>\n",
       "      <td>NaN</td>\n",
       "      <td>...</td>\n",
       "      <td>NaN</td>\n",
       "      <td>NaN</td>\n",
       "      <td>NaN</td>\n",
       "      <td>NaN</td>\n",
       "      <td>NaN</td>\n",
       "      <td>NaN</td>\n",
       "      <td>NaN</td>\n",
       "      <td>NaN</td>\n",
       "      <td>NaN</td>\n",
       "      <td>NaN</td>\n",
       "    </tr>\n",
       "    <tr>\n",
       "      <th>4</th>\n",
       "      <td>C2010 Av. Del Parque Lucena Córdoba</td>\n",
       "      <td>2018-12-14 00:02:55</td>\n",
       "      <td>31049.0</td>\n",
       "      <td>NaN</td>\n",
       "      <td>NaN</td>\n",
       "      <td>NaN</td>\n",
       "      <td>NaN</td>\n",
       "      <td>NaN</td>\n",
       "      <td>NaN</td>\n",
       "      <td>NaN</td>\n",
       "      <td>...</td>\n",
       "      <td>NaN</td>\n",
       "      <td>NaN</td>\n",
       "      <td>10.7</td>\n",
       "      <td>NaN</td>\n",
       "      <td>NaN</td>\n",
       "      <td>NaN</td>\n",
       "      <td>NaN</td>\n",
       "      <td>NaN</td>\n",
       "      <td>NaN</td>\n",
       "      <td>NaN</td>\n",
       "    </tr>\n",
       "    <tr>\n",
       "      <th>...</th>\n",
       "      <td>...</td>\n",
       "      <td>...</td>\n",
       "      <td>...</td>\n",
       "      <td>...</td>\n",
       "      <td>...</td>\n",
       "      <td>...</td>\n",
       "      <td>...</td>\n",
       "      <td>...</td>\n",
       "      <td>...</td>\n",
       "      <td>...</td>\n",
       "      <td>...</td>\n",
       "      <td>...</td>\n",
       "      <td>...</td>\n",
       "      <td>...</td>\n",
       "      <td>...</td>\n",
       "      <td>...</td>\n",
       "      <td>...</td>\n",
       "      <td>...</td>\n",
       "      <td>...</td>\n",
       "      <td>...</td>\n",
       "      <td>...</td>\n",
       "    </tr>\n",
       "    <tr>\n",
       "      <th>66115192</th>\n",
       "      <td>C7005 Vermoim Maia Porto</td>\n",
       "      <td>2020-05-31 23:52:02</td>\n",
       "      <td>119749.0</td>\n",
       "      <td>NaN</td>\n",
       "      <td>NaN</td>\n",
       "      <td>NaN</td>\n",
       "      <td>NaN</td>\n",
       "      <td>NaN</td>\n",
       "      <td>NaN</td>\n",
       "      <td>NaN</td>\n",
       "      <td>...</td>\n",
       "      <td>5.4</td>\n",
       "      <td>1.10</td>\n",
       "      <td>5.4</td>\n",
       "      <td>17.6</td>\n",
       "      <td>23.200001</td>\n",
       "      <td>NaN</td>\n",
       "      <td>NaN</td>\n",
       "      <td>NaN</td>\n",
       "      <td>NaN</td>\n",
       "      <td>NaN</td>\n",
       "    </tr>\n",
       "    <tr>\n",
       "      <th>66115193</th>\n",
       "      <td>C7005 Vermoim Maia Porto</td>\n",
       "      <td>2020-05-31 23:53:00</td>\n",
       "      <td>119749.0</td>\n",
       "      <td>NaN</td>\n",
       "      <td>NaN</td>\n",
       "      <td>NaN</td>\n",
       "      <td>NaN</td>\n",
       "      <td>NaN</td>\n",
       "      <td>NaN</td>\n",
       "      <td>NaN</td>\n",
       "      <td>...</td>\n",
       "      <td>NaN</td>\n",
       "      <td>NaN</td>\n",
       "      <td>6.1</td>\n",
       "      <td>NaN</td>\n",
       "      <td>22.700001</td>\n",
       "      <td>NaN</td>\n",
       "      <td>NaN</td>\n",
       "      <td>NaN</td>\n",
       "      <td>NaN</td>\n",
       "      <td>NaN</td>\n",
       "    </tr>\n",
       "    <tr>\n",
       "      <th>66115194</th>\n",
       "      <td>C7005 Vermoim Maia Porto</td>\n",
       "      <td>2020-05-31 23:55:00</td>\n",
       "      <td>119749.0</td>\n",
       "      <td>NaN</td>\n",
       "      <td>NaN</td>\n",
       "      <td>NaN</td>\n",
       "      <td>NaN</td>\n",
       "      <td>NaN</td>\n",
       "      <td>NaN</td>\n",
       "      <td>NaN</td>\n",
       "      <td>...</td>\n",
       "      <td>NaN</td>\n",
       "      <td>NaN</td>\n",
       "      <td>NaN</td>\n",
       "      <td>NaN</td>\n",
       "      <td>NaN</td>\n",
       "      <td>NaN</td>\n",
       "      <td>NaN</td>\n",
       "      <td>NaN</td>\n",
       "      <td>NaN</td>\n",
       "      <td>NaN</td>\n",
       "    </tr>\n",
       "    <tr>\n",
       "      <th>66115195</th>\n",
       "      <td>C7005 Vermoim Maia Porto</td>\n",
       "      <td>2020-05-31 23:57:00</td>\n",
       "      <td>119749.0</td>\n",
       "      <td>NaN</td>\n",
       "      <td>NaN</td>\n",
       "      <td>NaN</td>\n",
       "      <td>NaN</td>\n",
       "      <td>NaN</td>\n",
       "      <td>NaN</td>\n",
       "      <td>NaN</td>\n",
       "      <td>...</td>\n",
       "      <td>NaN</td>\n",
       "      <td>NaN</td>\n",
       "      <td>5.3</td>\n",
       "      <td>NaN</td>\n",
       "      <td>NaN</td>\n",
       "      <td>NaN</td>\n",
       "      <td>NaN</td>\n",
       "      <td>NaN</td>\n",
       "      <td>NaN</td>\n",
       "      <td>NaN</td>\n",
       "    </tr>\n",
       "    <tr>\n",
       "      <th>66115196</th>\n",
       "      <td>C7005 Vermoim Maia Porto</td>\n",
       "      <td>2020-05-31 23:58:00</td>\n",
       "      <td>119749.0</td>\n",
       "      <td>NaN</td>\n",
       "      <td>NaN</td>\n",
       "      <td>NaN</td>\n",
       "      <td>NaN</td>\n",
       "      <td>NaN</td>\n",
       "      <td>NaN</td>\n",
       "      <td>NaN</td>\n",
       "      <td>...</td>\n",
       "      <td>NaN</td>\n",
       "      <td>NaN</td>\n",
       "      <td>NaN</td>\n",
       "      <td>NaN</td>\n",
       "      <td>NaN</td>\n",
       "      <td>NaN</td>\n",
       "      <td>NaN</td>\n",
       "      <td>NaN</td>\n",
       "      <td>NaN</td>\n",
       "      <td>NaN</td>\n",
       "    </tr>\n",
       "  </tbody>\n",
       "</table>\n",
       "<p>66115197 rows × 36 columns</p>\n",
       "</div>"
      ],
      "text/plain": [
       "                                  NAME_CENTRO                  TS   ELEMENT  \\\n",
       "0         C2010 Av. Del Parque Lucena Córdoba 2018-12-14 00:00:54   31049.0   \n",
       "1         C2010 Av. Del Parque Lucena Córdoba 2018-12-14 00:01:34   31049.0   \n",
       "2         C2010 Av. Del Parque Lucena Córdoba 2018-12-14 00:01:55   31049.0   \n",
       "3         C2010 Av. Del Parque Lucena Córdoba 2018-12-14 00:02:17   31049.0   \n",
       "4         C2010 Av. Del Parque Lucena Córdoba 2018-12-14 00:02:55   31049.0   \n",
       "...                                       ...                 ...       ...   \n",
       "66115192             C7005 Vermoim Maia Porto 2020-05-31 23:52:02  119749.0   \n",
       "66115193             C7005 Vermoim Maia Porto 2020-05-31 23:53:00  119749.0   \n",
       "66115194             C7005 Vermoim Maia Porto 2020-05-31 23:55:00  119749.0   \n",
       "66115195             C7005 Vermoim Maia Porto 2020-05-31 23:57:00  119749.0   \n",
       "66115196             C7005 Vermoim Maia Porto 2020-05-31 23:58:00  119749.0   \n",
       "\n",
       "          TAG_ALARMA  TAG_COMPRESOR1  TAG_COMPRESOR2  TAG_COMPRESOR3  \\\n",
       "0                NaN             NaN             NaN             NaN   \n",
       "1                NaN             NaN             NaN             NaN   \n",
       "2                NaN             NaN             NaN             NaN   \n",
       "3                NaN             NaN             1.0             NaN   \n",
       "4                NaN             NaN             NaN             NaN   \n",
       "...              ...             ...             ...             ...   \n",
       "66115192         NaN             NaN             NaN             NaN   \n",
       "66115193         NaN             NaN             NaN             NaN   \n",
       "66115194         NaN             NaN             NaN             NaN   \n",
       "66115195         NaN             NaN             NaN             NaN   \n",
       "66115196         NaN             NaN             NaN             NaN   \n",
       "\n",
       "          TAG_COMPRESOR4  TAG_COMPRESOR5  TAG_COMPRESOR6  ...  \\\n",
       "0                    NaN             NaN             NaN  ...   \n",
       "1                    NaN             NaN             0.0  ...   \n",
       "2                    NaN             NaN             NaN  ...   \n",
       "3                    1.0             NaN             NaN  ...   \n",
       "4                    NaN             NaN             NaN  ...   \n",
       "...                  ...             ...             ...  ...   \n",
       "66115192             NaN             NaN             NaN  ...   \n",
       "66115193             NaN             NaN             NaN  ...   \n",
       "66115194             NaN             NaN             NaN  ...   \n",
       "66115195             NaN             NaN             NaN  ...   \n",
       "66115196             NaN             NaN             NaN  ...   \n",
       "\n",
       "          TAG_SETPOINT_COND  TAG_SONDA_ASP  TAG_SONDA_COND  \\\n",
       "0                       NaN           2.42             NaN   \n",
       "1                       NaN            NaN             NaN   \n",
       "2                       NaN            NaN            10.1   \n",
       "3                       NaN            NaN             NaN   \n",
       "4                       NaN            NaN            10.7   \n",
       "...                     ...            ...             ...   \n",
       "66115192                5.4           1.10             5.4   \n",
       "66115193                NaN            NaN             6.1   \n",
       "66115194                NaN            NaN             NaN   \n",
       "66115195                NaN            NaN             5.3   \n",
       "66115196                NaN            NaN             NaN   \n",
       "\n",
       "          TAG_SONDA_TEMP_EXT  TAG_SONDA_TEMP_SUBENF  TAG_VENTILADOR1  \\\n",
       "0                       10.9              18.000000              NaN   \n",
       "1                        NaN                    NaN              NaN   \n",
       "2                        NaN                    NaN              NaN   \n",
       "3                        NaN                    NaN              NaN   \n",
       "4                        NaN                    NaN              NaN   \n",
       "...                      ...                    ...              ...   \n",
       "66115192                17.6              23.200001              NaN   \n",
       "66115193                 NaN              22.700001              NaN   \n",
       "66115194                 NaN                    NaN              NaN   \n",
       "66115195                 NaN                    NaN              NaN   \n",
       "66115196                 NaN                    NaN              NaN   \n",
       "\n",
       "          TAG_VENTILADOR2  TAG_VENTILADOR3  TAG_VENTILADOR4  TAG_VENTILADOR5  \n",
       "0                     NaN              NaN              NaN              NaN  \n",
       "1                     NaN              NaN              NaN              NaN  \n",
       "2                     NaN              NaN              NaN              NaN  \n",
       "3                     NaN              NaN              NaN              NaN  \n",
       "4                     NaN              NaN              NaN              NaN  \n",
       "...                   ...              ...              ...              ...  \n",
       "66115192              NaN              NaN              NaN              NaN  \n",
       "66115193              NaN              NaN              NaN              NaN  \n",
       "66115194              NaN              NaN              NaN              NaN  \n",
       "66115195              NaN              NaN              NaN              NaN  \n",
       "66115196              NaN              NaN              NaN              NaN  \n",
       "\n",
       "[66115197 rows x 36 columns]"
      ]
     },
     "execution_count": 11,
     "metadata": {},
     "output_type": "execute_result"
    }
   ],
   "source": [
    "df_Central"
   ]
  },
  {
   "cell_type": "code",
   "execution_count": 12,
   "metadata": {},
   "outputs": [
    {
     "data": {
      "image/png": "[encoded data removed]",
      "text/plain": [
       "<Figure size 432x288 with 1 Axes>"
      ]
     },
     "metadata": {
      "needs_background": "light"
     },
     "output_type": "display_data"
    },
    {
     "name": "stdout",
     "output_type": "stream",
     "text": [
      "TAG_ALARMA\n"
     ]
    },
    {
     "data": {
      "image/png": "[encoded data removed]",
      "text/plain": [
       "<Figure size 432x288 with 1 Axes>"
      ]
     },
     "metadata": {
      "needs_background": "light"
     },
     "output_type": "display_data"
    },
    {
     "name": "stdout",
     "output_type": "stream",
     "text": [
      "TAG_COMPRESOR1\n"
     ]
    },
    {
     "data": {
      "image/png": "[encoded data removed]",
      "text/plain": [
       "<Figure size 432x288 with 1 Axes>"
      ]
     },
     "metadata": {
      "needs_background": "light"
     },
     "output_type": "display_data"
    },
    {
     "name": "stdout",
     "output_type": "stream",
     "text": [
      "TAG_COMPRESOR2\n"
     ]
    },
    {
     "data": {
      "image/png": "[encoded data removed]",
      "text/plain": [
       "<Figure size 432x288 with 1 Axes>"
      ]
     },
     "metadata": {
      "needs_background": "light"
     },
     "output_type": "display_data"
    },
    {
     "name": "stdout",
     "output_type": "stream",
     "text": [
      "TAG_COMPRESOR3\n"
     ]
    },
    {
     "data": {
      "image/png": "[encoded data removed]",
      "text/plain": [
       "<Figure size 432x288 with 1 Axes>"
      ]
     },
     "metadata": {
      "needs_background": "light"
     },
     "output_type": "display_data"
    },
    {
     "name": "stdout",
     "output_type": "stream",
     "text": [
      "TAG_COMPRESOR4\n"
     ]
    },
    {
     "data": {
      "image/png": "[encoded data removed]",
      "text/plain": [
       "<Figure size 432x288 with 1 Axes>"
      ]
     },
     "metadata": {
      "needs_background": "light"
     },
     "output_type": "display_data"
    },
    {
     "name": "stdout",
     "output_type": "stream",
     "text": [
      "TAG_COMPRESOR5\n"
     ]
    },
    {
     "data": {
      "image/png": "[encoded data removed]",
      "text/plain": [
       "<Figure size 432x288 with 1 Axes>"
      ]
     },
     "metadata": {
      "needs_background": "light"
     },
     "output_type": "display_data"
    },
    {
     "name": "stdout",
     "output_type": "stream",
     "text": [
      "TAG_COMPRESOR6\n"
     ]
    },
    {
     "data": {
      "image/png": "[encoded data removed]",
      "text/plain": [
       "<Figure size 432x288 with 1 Axes>"
      ]
     },
     "metadata": {
      "needs_background": "light"
     },
     "output_type": "display_data"
    },
    {
     "name": "stdout",
     "output_type": "stream",
     "text": [
      "TAG_COMUNICA\n"
     ]
    },
    {
     "data": {
      "image/png": "[encoded data removed]",
      "text/plain": [
       "<Figure size 432x288 with 1 Axes>"
      ]
     },
     "metadata": {
      "needs_background": "light"
     },
     "output_type": "display_data"
    },
    {
     "name": "stdout",
     "output_type": "stream",
     "text": [
      "TAG_CONV_SETPOINT_ASP\n"
     ]
    },
    {
     "data": {
      "image/png": "[encoded data removed]",
      "text/plain": [
       "<Figure size 432x288 with 1 Axes>"
      ]
     },
     "metadata": {
      "needs_background": "light"
     },
     "output_type": "display_data"
    },
    {
     "name": "stdout",
     "output_type": "stream",
     "text": [
      "TAG_CONV_SETPOINT_COND\n"
     ]
    },
    {
     "data": {
      "image/png": "[encoded data removed]",
      "text/plain": [
       "<Figure size 432x288 with 1 Axes>"
      ]
     },
     "metadata": {
      "needs_background": "light"
     },
     "output_type": "display_data"
    },
    {
     "name": "stdout",
     "output_type": "stream",
     "text": [
      "TAG_CONV_SONDA_ASP\n"
     ]
    },
    {
     "data": {
      "image/png": "[encoded data removed]",
      "text/plain": [
       "<Figure size 432x288 with 1 Axes>"
      ]
     },
     "metadata": {
      "needs_background": "light"
     },
     "output_type": "display_data"
    },
    {
     "name": "stdout",
     "output_type": "stream",
     "text": [
      "TAG_CONV_SONDA_COND\n"
     ]
    },
    {
     "data": {
      "image/png": "[encoded data removed]",
      "text/plain": [
       "<Figure size 432x288 with 1 Axes>"
      ]
     },
     "metadata": {
      "needs_background": "light"
     },
     "output_type": "display_data"
    },
    {
     "name": "stdout",
     "output_type": "stream",
     "text": [
      "TAG_PASOMANUAL\n"
     ]
    },
    {
     "data": {
      "image/png": "[encoded data removed]",
      "text/plain": [
       "<Figure size 432x288 with 1 Axes>"
      ]
     },
     "metadata": {
      "needs_background": "light"
     },
     "output_type": "display_data"
    },
    {
     "name": "stdout",
     "output_type": "stream",
     "text": [
      "TAG_PASOMANUAL_AVERIA\n"
     ]
    },
    {
     "data": {
      "image/png": "[encoded data removed]",
      "text/plain": [
       "<Figure size 432x288 with 1 Axes>"
      ]
     },
     "metadata": {
      "needs_background": "light"
     },
     "output_type": "display_data"
    },
    {
     "name": "stdout",
     "output_type": "stream",
     "text": [
      "TAG_PASOMANUAL_MTTO\n"
     ]
    },
    {
     "data": {
      "image/png": "[encoded data removed]",
      "text/plain": [
       "<Figure size 432x288 with 1 Axes>"
      ]
     },
     "metadata": {
      "needs_background": "light"
     },
     "output_type": "display_data"
    },
    {
     "name": "stdout",
     "output_type": "stream",
     "text": [
      "TAG_POTENCIA_COMP1\n"
     ]
    },
    {
     "data": {
      "image/png": "[encoded data removed]",
      "text/plain": [
       "<Figure size 432x288 with 1 Axes>"
      ]
     },
     "metadata": {
      "needs_background": "light"
     },
     "output_type": "display_data"
    },
    {
     "name": "stdout",
     "output_type": "stream",
     "text": [
      "TAG_POTENCIA_COMP2\n"
     ]
    },
    {
     "data": {
      "image/png": "[encoded data removed]",
      "text/plain": [
       "<Figure size 432x288 with 1 Axes>"
      ]
     },
     "metadata": {
      "needs_background": "light"
     },
     "output_type": "display_data"
    },
    {
     "name": "stdout",
     "output_type": "stream",
     "text": [
      "TAG_POTENCIA_COMP3\n"
     ]
    },
    {
     "data": {
      "image/png": "[encoded data removed]",
      "text/plain": [
       "<Figure size 432x288 with 1 Axes>"
      ]
     },
     "metadata": {
      "needs_background": "light"
     },
     "output_type": "display_data"
    },
    {
     "name": "stdout",
     "output_type": "stream",
     "text": [
      "TAG_POTENCIA_COMP4\n"
     ]
    },
    {
     "data": {
      "image/png": "[encoded data removed]",
      "text/plain": [
       "<Figure size 432x288 with 1 Axes>"
      ]
     },
     "metadata": {
      "needs_background": "light"
     },
     "output_type": "display_data"
    },
    {
     "name": "stdout",
     "output_type": "stream",
     "text": [
      "TAG_POTENCIA_COMP5\n"
     ]
    },
    {
     "data": {
      "image/png": "[encoded data removed]",
      "text/plain": [
       "<Figure size 432x288 with 1 Axes>"
      ]
     },
     "metadata": {
      "needs_background": "light"
     },
     "output_type": "display_data"
    },
    {
     "name": "stdout",
     "output_type": "stream",
     "text": [
      "TAG_POTENCIA_COMP6\n"
     ]
    },
    {
     "data": {
      "image/png": "[encoded data removed]",
      "text/plain": [
       "<Figure size 432x288 with 1 Axes>"
      ]
     },
     "metadata": {
      "needs_background": "light"
     },
     "output_type": "display_data"
    },
    {
     "name": "stdout",
     "output_type": "stream",
     "text": [
      "TAG_POTENCIA_INVERTER\n"
     ]
    },
    {
     "data": {
      "image/png": "[encoded data removed]",
      "text/plain": [
       "<Figure size 432x288 with 1 Axes>"
      ]
     },
     "metadata": {
      "needs_background": "light"
     },
     "output_type": "display_data"
    },
    {
     "name": "stdout",
     "output_type": "stream",
     "text": [
      "TAG_SETPOINT_ASP\n"
     ]
    },
    {
     "data": {
      "image/png": "[encoded data removed]",
      "text/plain": [
       "<Figure size 432x288 with 1 Axes>"
      ]
     },
     "metadata": {
      "needs_background": "light"
     },
     "output_type": "display_data"
    },
    {
     "name": "stdout",
     "output_type": "stream",
     "text": [
      "TAG_SETPOINT_COND\n"
     ]
    },
    {
     "data": {
      "image/png": "[encoded data removed]",
      "text/plain": [
       "<Figure size 432x288 with 1 Axes>"
      ]
     },
     "metadata": {
      "needs_background": "light"
     },
     "output_type": "display_data"
    },
    {
     "name": "stdout",
     "output_type": "stream",
     "text": [
      "TAG_SONDA_ASP\n"
     ]
    },
    {
     "data": {
      "image/png": "[encoded data removed]",
      "text/plain": [
       "<Figure size 432x288 with 1 Axes>"
      ]
     },
     "metadata": {
      "needs_background": "light"
     },
     "output_type": "display_data"
    },
    {
     "name": "stdout",
     "output_type": "stream",
     "text": [
      "TAG_SONDA_COND\n"
     ]
    },
    {
     "data": {
      "image/png": "[encoded data removed]",
      "text/plain": [
       "<Figure size 432x288 with 1 Axes>"
      ]
     },
     "metadata": {
      "needs_background": "light"
     },
     "output_type": "display_data"
    },
    {
     "name": "stdout",
     "output_type": "stream",
     "text": [
      "TAG_SONDA_TEMP_EXT\n"
     ]
    },
    {
     "data": {
      "image/png": "[encoded data removed]",
      "text/plain": [
       "<Figure size 432x288 with 1 Axes>"
      ]
     },
     "metadata": {
      "needs_background": "light"
     },
     "output_type": "display_data"
    },
    {
     "name": "stdout",
     "output_type": "stream",
     "text": [
      "TAG_SONDA_TEMP_SUBENF\n"
     ]
    },
    {
     "data": {
      "image/png": "[encoded data removed]",
      "text/plain": [
       "<Figure size 432x288 with 1 Axes>"
      ]
     },
     "metadata": {
      "needs_background": "light"
     },
     "output_type": "display_data"
    },
    {
     "name": "stdout",
     "output_type": "stream",
     "text": [
      "TAG_VENTILADOR1\n"
     ]
    },
    {
     "data": {
      "image/png": "[encoded data removed]",
      "text/plain": [
       "<Figure size 432x288 with 1 Axes>"
      ]
     },
     "metadata": {
      "needs_background": "light"
     },
     "output_type": "display_data"
    },
    {
     "name": "stdout",
     "output_type": "stream",
     "text": [
      "TAG_VENTILADOR2\n"
     ]
    },
    {
     "data": {
      "image/png": "[encoded data removed]",
      "text/plain": [
       "<Figure size 432x288 with 1 Axes>"
      ]
     },
     "metadata": {
      "needs_background": "light"
     },
     "output_type": "display_data"
    },
    {
     "name": "stdout",
     "output_type": "stream",
     "text": [
      "TAG_VENTILADOR3\n"
     ]
    }
   ],
   "source": [
    "#load the colums in a dataframe\n",
    "\n",
    "\n",
    "cols=list(df_Central.columns)\n",
    "\n",
    "# Drawing the plots\n",
    "i=3\n",
    "while i <= (len(cols) - 3):\n",
    "        \n",
    "    plt.boxplot(df_Central[cols[i]].dropna(), vert=False)\n",
    "    \n",
    "    plt.show()\n",
    "    \n",
    "      \n",
    "\n",
    "#    plt.pause(0.001)\n",
    "\n",
    "    # add to iteration counter\n",
    "    i += 1\n",
    "\n",
    "    print(cols[i-1])"
   ]
  },
  {
   "cell_type": "code",
   "execution_count": 14,
   "metadata": {},
   "outputs": [
    {
     "name": "stdout",
     "output_type": "stream",
     "text": [
      "TAG_ALARMA\n"
     ]
    },
    {
     "data": {
      "image/png": "[encoded data removed]",
      "text/plain": [
       "<Figure size 432x288 with 1 Axes>"
      ]
     },
     "metadata": {
      "needs_background": "light"
     },
     "output_type": "display_data"
    },
    {
     "name": "stdout",
     "output_type": "stream",
     "text": [
      "TAG_COMPRESOR1\n"
     ]
    },
    {
     "data": {
      "image/png": "[encoded data removed]",
      "text/plain": [
       "<Figure size 432x288 with 1 Axes>"
      ]
     },
     "metadata": {
      "needs_background": "light"
     },
     "output_type": "display_data"
    },
    {
     "name": "stdout",
     "output_type": "stream",
     "text": [
      "TAG_COMPRESOR2\n"
     ]
    },
    {
     "data": {
      "image/png": "[encoded data removed]",
      "text/plain": [
       "<Figure size 432x288 with 1 Axes>"
      ]
     },
     "metadata": {
      "needs_background": "light"
     },
     "output_type": "display_data"
    },
    {
     "name": "stdout",
     "output_type": "stream",
     "text": [
      "TAG_COMPRESOR3\n"
     ]
    },
    {
     "data": {
      "image/png": "[encoded data removed]",
      "text/plain": [
       "<Figure size 432x288 with 1 Axes>"
      ]
     },
     "metadata": {
      "needs_background": "light"
     },
     "output_type": "display_data"
    },
    {
     "name": "stdout",
     "output_type": "stream",
     "text": [
      "TAG_COMPRESOR4\n"
     ]
    },
    {
     "data": {
      "image/png": "[encoded data removed]",
      "text/plain": [
       "<Figure size 432x288 with 1 Axes>"
      ]
     },
     "metadata": {
      "needs_background": "light"
     },
     "output_type": "display_data"
    },
    {
     "name": "stdout",
     "output_type": "stream",
     "text": [
      "TAG_COMPRESOR5\n"
     ]
    },
    {
     "data": {
      "image/png": "[encoded data removed]",
      "text/plain": [
       "<Figure size 432x288 with 1 Axes>"
      ]
     },
     "metadata": {
      "needs_background": "light"
     },
     "output_type": "display_data"
    },
    {
     "name": "stdout",
     "output_type": "stream",
     "text": [
      "TAG_COMPRESOR6\n"
     ]
    },
    {
     "data": {
      "image/png": "[encoded data removed]",
      "text/plain": [
       "<Figure size 432x288 with 1 Axes>"
      ]
     },
     "metadata": {
      "needs_background": "light"
     },
     "output_type": "display_data"
    },
    {
     "name": "stdout",
     "output_type": "stream",
     "text": [
      "TAG_COMUNICA\n"
     ]
    },
    {
     "data": {
      "image/png": "[encoded data removed]",
      "text/plain": [
       "<Figure size 432x288 with 1 Axes>"
      ]
     },
     "metadata": {
      "needs_background": "light"
     },
     "output_type": "display_data"
    },
    {
     "name": "stdout",
     "output_type": "stream",
     "text": [
      "TAG_CONV_SETPOINT_ASP\n"
     ]
    },
    {
     "data": {
      "image/png": "[encoded data removed]",
      "text/plain": [
       "<Figure size 432x288 with 1 Axes>"
      ]
     },
     "metadata": {
      "needs_background": "light"
     },
     "output_type": "display_data"
    },
    {
     "name": "stdout",
     "output_type": "stream",
     "text": [
      "TAG_CONV_SETPOINT_COND\n"
     ]
    },
    {
     "data": {
      "image/png": "[encoded data removed]",
      "text/plain": [
       "<Figure size 432x288 with 1 Axes>"
      ]
     },
     "metadata": {
      "needs_background": "light"
     },
     "output_type": "display_data"
    },
    {
     "name": "stdout",
     "output_type": "stream",
     "text": [
      "TAG_CONV_SONDA_ASP\n"
     ]
    },
    {
     "data": {
      "image/png": "[encoded data removed]",
      "text/plain": [
       "<Figure size 432x288 with 1 Axes>"
      ]
     },
     "metadata": {
      "needs_background": "light"
     },
     "output_type": "display_data"
    },
    {
     "name": "stdout",
     "output_type": "stream",
     "text": [
      "TAG_CONV_SONDA_COND\n"
     ]
    },
    {
     "data": {
      "image/png": "[encoded data removed]",
      "text/plain": [
       "<Figure size 432x288 with 1 Axes>"
      ]
     },
     "metadata": {
      "needs_background": "light"
     },
     "output_type": "display_data"
    },
    {
     "name": "stdout",
     "output_type": "stream",
     "text": [
      "TAG_PASOMANUAL\n"
     ]
    },
    {
     "data": {
      "image/png": "[encoded data removed]",
      "text/plain": [
       "<Figure size 432x288 with 1 Axes>"
      ]
     },
     "metadata": {
      "needs_background": "light"
     },
     "output_type": "display_data"
    },
    {
     "name": "stdout",
     "output_type": "stream",
     "text": [
      "TAG_PASOMANUAL_AVERIA\n"
     ]
    },
    {
     "data": {
      "image/png": "[encoded data removed]",
      "text/plain": [
       "<Figure size 432x288 with 1 Axes>"
      ]
     },
     "metadata": {
      "needs_background": "light"
     },
     "output_type": "display_data"
    },
    {
     "name": "stdout",
     "output_type": "stream",
     "text": [
      "TAG_PASOMANUAL_MTTO\n"
     ]
    },
    {
     "data": {
      "image/png": "[encoded data removed]",
      "text/plain": [
       "<Figure size 432x288 with 1 Axes>"
      ]
     },
     "metadata": {
      "needs_background": "light"
     },
     "output_type": "display_data"
    },
    {
     "name": "stdout",
     "output_type": "stream",
     "text": [
      "TAG_POTENCIA_COMP1\n"
     ]
    },
    {
     "data": {
      "image/png": "[encoded data removed]",
      "text/plain": [
       "<Figure size 432x288 with 1 Axes>"
      ]
     },
     "metadata": {
      "needs_background": "light"
     },
     "output_type": "display_data"
    },
    {
     "name": "stdout",
     "output_type": "stream",
     "text": [
      "TAG_POTENCIA_COMP2\n"
     ]
    },
    {
     "data": {
      "image/png": "[encoded data removed]",
      "text/plain": [
       "<Figure size 432x288 with 1 Axes>"
      ]
     },
     "metadata": {
      "needs_background": "light"
     },
     "output_type": "display_data"
    },
    {
     "name": "stdout",
     "output_type": "stream",
     "text": [
      "TAG_POTENCIA_COMP3\n"
     ]
    },
    {
     "data": {
      "image/png": "[encoded data removed]",
      "text/plain": [
       "<Figure size 432x288 with 1 Axes>"
      ]
     },
     "metadata": {
      "needs_background": "light"
     },
     "output_type": "display_data"
    },
    {
     "name": "stdout",
     "output_type": "stream",
     "text": [
      "TAG_POTENCIA_COMP4\n"
     ]
    },
    {
     "data": {
      "image/png": "[encoded data removed]",
      "text/plain": [
       "<Figure size 432x288 with 1 Axes>"
      ]
     },
     "metadata": {
      "needs_background": "light"
     },
     "output_type": "display_data"
    },
    {
     "name": "stdout",
     "output_type": "stream",
     "text": [
      "TAG_POTENCIA_COMP5\n"
     ]
    },
    {
     "data": {
      "image/png": "[encoded data removed]",
      "text/plain": [
       "<Figure size 432x288 with 1 Axes>"
      ]
     },
     "metadata": {
      "needs_background": "light"
     },
     "output_type": "display_data"
    },
    {
     "name": "stdout",
     "output_type": "stream",
     "text": [
      "TAG_POTENCIA_COMP6\n"
     ]
    },
    {
     "data": {
      "image/png": "[encoded data removed]",
      "text/plain": [
       "<Figure size 432x288 with 1 Axes>"
      ]
     },
     "metadata": {
      "needs_background": "light"
     },
     "output_type": "display_data"
    },
    {
     "name": "stdout",
     "output_type": "stream",
     "text": [
      "TAG_POTENCIA_INVERTER\n"
     ]
    },
    {
     "data": {
      "image/png": "[encoded data removed]",
      "text/plain": [
       "<Figure size 432x288 with 1 Axes>"
      ]
     },
     "metadata": {
      "needs_background": "light"
     },
     "output_type": "display_data"
    },
    {
     "name": "stdout",
     "output_type": "stream",
     "text": [
      "TAG_SETPOINT_ASP\n"
     ]
    },
    {
     "data": {
      "image/png": "[encoded data removed]",
      "text/plain": [
       "<Figure size 432x288 with 1 Axes>"
      ]
     },
     "metadata": {
      "needs_background": "light"
     },
     "output_type": "display_data"
    },
    {
     "name": "stdout",
     "output_type": "stream",
     "text": [
      "TAG_SETPOINT_COND\n"
     ]
    },
    {
     "data": {
      "image/png": "[encoded data removed]",
      "text/plain": [
       "<Figure size 432x288 with 1 Axes>"
      ]
     },
     "metadata": {
      "needs_background": "light"
     },
     "output_type": "display_data"
    },
    {
     "name": "stdout",
     "output_type": "stream",
     "text": [
      "TAG_SONDA_ASP\n"
     ]
    },
    {
     "data": {
      "image/png": "[encoded data removed]",
      "text/plain": [
       "<Figure size 432x288 with 1 Axes>"
      ]
     },
     "metadata": {
      "needs_background": "light"
     },
     "output_type": "display_data"
    },
    {
     "name": "stdout",
     "output_type": "stream",
     "text": [
      "TAG_SONDA_COND\n"
     ]
    },
    {
     "data": {
      "image/png": "[encoded data removed]",
      "text/plain": [
       "<Figure size 432x288 with 1 Axes>"
      ]
     },
     "metadata": {
      "needs_background": "light"
     },
     "output_type": "display_data"
    },
    {
     "name": "stdout",
     "output_type": "stream",
     "text": [
      "TAG_SONDA_TEMP_EXT\n"
     ]
    },
    {
     "data": {
      "image/png": "[encoded data removed]",
      "text/plain": [
       "<Figure size 432x288 with 1 Axes>"
      ]
     },
     "metadata": {
      "needs_background": "light"
     },
     "output_type": "display_data"
    },
    {
     "name": "stdout",
     "output_type": "stream",
     "text": [
      "TAG_SONDA_TEMP_SUBENF\n"
     ]
    },
    {
     "data": {
      "image/png": "[encoded data removed]",
      "text/plain": [
       "<Figure size 432x288 with 1 Axes>"
      ]
     },
     "metadata": {
      "needs_background": "light"
     },
     "output_type": "display_data"
    },
    {
     "name": "stdout",
     "output_type": "stream",
     "text": [
      "TAG_VENTILADOR1\n"
     ]
    },
    {
     "data": {
      "image/png": "[encoded data removed]",
      "text/plain": [
       "<Figure size 432x288 with 1 Axes>"
      ]
     },
     "metadata": {
      "needs_background": "light"
     },
     "output_type": "display_data"
    },
    {
     "name": "stdout",
     "output_type": "stream",
     "text": [
      "TAG_VENTILADOR2\n"
     ]
    },
    {
     "data": {
      "image/png": "[encoded data removed]",
      "text/plain": [
       "<Figure size 432x288 with 1 Axes>"
      ]
     },
     "metadata": {
      "needs_background": "light"
     },
     "output_type": "display_data"
    },
    {
     "name": "stdout",
     "output_type": "stream",
     "text": [
      "TAG_VENTILADOR3\n"
     ]
    },
    {
     "data": {
      "image/png": "[encoded data removed]",
      "text/plain": [
       "<Figure size 432x288 with 1 Axes>"
      ]
     },
     "metadata": {
      "needs_background": "light"
     },
     "output_type": "display_data"
    }
   ],
   "source": [
    "import os\n",
    "# Draw the plot_date with \n",
    "#mask = df_Variables.loc[(df_Variables['TS'] > '2019-07-11 00:00:00') & (df_Variables['TS'] <= '2019-07-11 23:00:00')]\n",
    "#mask= mask.loc[(mask['ELEMENT'] == (elements[j]))]\n",
    "#mask['TAG_SONDA_PB1'] = mask['TAG_SONDA_PB1'].interpolate()\n",
    "\n",
    "mask = df_Central\n",
    "mask = mask.sort_values('TS')\n",
    "\n",
    "plt.xticks(rotation=90)\n",
    "\n",
    "#load the colums in a dataframe\n",
    "cols=list(df_Central.columns)\n",
    "\n",
    "#Path\n",
    "#mypath= os.path.abspath(__file__)\n",
    "mypath = os.getcwd()\n",
    "\n",
    "# Drawing the plots\n",
    "i=3\n",
    "while i <= (len(cols) - 3):\n",
    "        \n",
    "#    plt.plot_date(df_Variables[cols[i]].dropna(), vert=False)\n",
    "    print(cols[i])\n",
    "    plt.plot_date(mask['TS'], mask[cols[i]])\n",
    "    plt.xticks(rotation=90)\n",
    "    plt.show()\n",
    "    # add to iteration counter\n",
    "    i += 1\n",
    "\n",
    "    "
   ]
  },
  {
   "cell_type": "code",
   "execution_count": 8,
   "metadata": {},
   "outputs": [
    {
     "name": "stdout",
     "output_type": "stream",
     "text": [
      "TAG_ALARMA\n"
     ]
    },
    {
     "data": {
      "image/png": "[encoded data removed]",
      "text/plain": [
       "<Figure size 432x288 with 1 Axes>"
      ]
     },
     "metadata": {
      "needs_background": "light"
     },
     "output_type": "display_data"
    },
    {
     "name": "stdout",
     "output_type": "stream",
     "text": [
      "TAG_COMPRESOR1\n"
     ]
    },
    {
     "data": {
      "image/png": "[encoded data removed]",
      "text/plain": [
       "<Figure size 432x288 with 1 Axes>"
      ]
     },
     "metadata": {
      "needs_background": "light"
     },
     "output_type": "display_data"
    },
    {
     "name": "stdout",
     "output_type": "stream",
     "text": [
      "TAG_COMPRESOR2\n"
     ]
    },
    {
     "data": {
      "image/png": "[encoded data removed]",
      "text/plain": [
       "<Figure size 432x288 with 1 Axes>"
      ]
     },
     "metadata": {
      "needs_background": "light"
     },
     "output_type": "display_data"
    },
    {
     "name": "stdout",
     "output_type": "stream",
     "text": [
      "TAG_COMPRESOR3\n"
     ]
    },
    {
     "data": {
      "image/png": "[encoded data removed]",
      "text/plain": [
       "<Figure size 432x288 with 1 Axes>"
      ]
     },
     "metadata": {
      "needs_background": "light"
     },
     "output_type": "display_data"
    },
    {
     "name": "stdout",
     "output_type": "stream",
     "text": [
      "TAG_COMPRESOR4\n"
     ]
    },
    {
     "data": {
      "image/png": "[encoded data removed]",
      "text/plain": [
       "<Figure size 432x288 with 1 Axes>"
      ]
     },
     "metadata": {
      "needs_background": "light"
     },
     "output_type": "display_data"
    },
    {
     "name": "stdout",
     "output_type": "stream",
     "text": [
      "TAG_COMPRESOR5\n"
     ]
    },
    {
     "data": {
      "image/png": "[encoded data removed]",
      "text/plain": [
       "<Figure size 432x288 with 1 Axes>"
      ]
     },
     "metadata": {
      "needs_background": "light"
     },
     "output_type": "display_data"
    },
    {
     "name": "stdout",
     "output_type": "stream",
     "text": [
      "TAG_COMPRESOR6\n"
     ]
    },
    {
     "data": {
      "image/png": "[encoded data removed]",
      "text/plain": [
       "<Figure size 432x288 with 1 Axes>"
      ]
     },
     "metadata": {
      "needs_background": "light"
     },
     "output_type": "display_data"
    },
    {
     "name": "stdout",
     "output_type": "stream",
     "text": [
      "TAG_COMUNICA\n"
     ]
    },
    {
     "data": {
      "image/png": "[encoded data removed]",
      "text/plain": [
       "<Figure size 432x288 with 1 Axes>"
      ]
     },
     "metadata": {
      "needs_background": "light"
     },
     "output_type": "display_data"
    },
    {
     "name": "stdout",
     "output_type": "stream",
     "text": [
      "TAG_CONV_SETPOINT_ASP\n"
     ]
    },
    {
     "data": {
      "image/png": "[encoded data removed]",
      "text/plain": [
       "<Figure size 432x288 with 1 Axes>"
      ]
     },
     "metadata": {
      "needs_background": "light"
     },
     "output_type": "display_data"
    },
    {
     "name": "stdout",
     "output_type": "stream",
     "text": [
      "TAG_CONV_SETPOINT_COND\n"
     ]
    },
    {
     "data": {
      "image/png": "[encoded data removed]",
      "text/plain": [
       "<Figure size 432x288 with 1 Axes>"
      ]
     },
     "metadata": {
      "needs_background": "light"
     },
     "output_type": "display_data"
    },
    {
     "name": "stdout",
     "output_type": "stream",
     "text": [
      "TAG_CONV_SONDA_ASP\n"
     ]
    },
    {
     "data": {
      "image/png": "[encoded data removed]",
      "text/plain": [
       "<Figure size 432x288 with 1 Axes>"
      ]
     },
     "metadata": {
      "needs_background": "light"
     },
     "output_type": "display_data"
    },
    {
     "name": "stdout",
     "output_type": "stream",
     "text": [
      "TAG_CONV_SONDA_COND\n"
     ]
    },
    {
     "data": {
      "image/png": "[encoded data removed]",
      "text/plain": [
       "<Figure size 432x288 with 1 Axes>"
      ]
     },
     "metadata": {
      "needs_background": "light"
     },
     "output_type": "display_data"
    },
    {
     "name": "stdout",
     "output_type": "stream",
     "text": [
      "TAG_PASOMANUAL\n"
     ]
    },
    {
     "data": {
      "image/png": "[encoded data removed]",
      "text/plain": [
       "<Figure size 432x288 with 1 Axes>"
      ]
     },
     "metadata": {
      "needs_background": "light"
     },
     "output_type": "display_data"
    },
    {
     "name": "stdout",
     "output_type": "stream",
     "text": [
      "TAG_PASOMANUAL_AVERIA\n"
     ]
    },
    {
     "data": {
      "image/png": "[encoded data removed]",
      "text/plain": [
       "<Figure size 432x288 with 1 Axes>"
      ]
     },
     "metadata": {
      "needs_background": "light"
     },
     "output_type": "display_data"
    },
    {
     "name": "stdout",
     "output_type": "stream",
     "text": [
      "TAG_PASOMANUAL_MTTO\n"
     ]
    },
    {
     "data": {
      "image/png": "[encoded data removed]",
      "text/plain": [
       "<Figure size 432x288 with 1 Axes>"
      ]
     },
     "metadata": {
      "needs_background": "light"
     },
     "output_type": "display_data"
    },
    {
     "name": "stdout",
     "output_type": "stream",
     "text": [
      "TAG_POTENCIA_COMP1\n"
     ]
    },
    {
     "data": {
      "image/png": "[encoded data removed]",
      "text/plain": [
       "<Figure size 432x288 with 1 Axes>"
      ]
     },
     "metadata": {
      "needs_background": "light"
     },
     "output_type": "display_data"
    },
    {
     "name": "stdout",
     "output_type": "stream",
     "text": [
      "TAG_POTENCIA_COMP2\n"
     ]
    },
    {
     "data": {
      "image/png": "[encoded data removed]",
      "text/plain": [
       "<Figure size 432x288 with 1 Axes>"
      ]
     },
     "metadata": {
      "needs_background": "light"
     },
     "output_type": "display_data"
    },
    {
     "name": "stdout",
     "output_type": "stream",
     "text": [
      "TAG_POTENCIA_COMP3\n"
     ]
    },
    {
     "data": {
      "image/png": "[encoded data removed]",
      "text/plain": [
       "<Figure size 432x288 with 1 Axes>"
      ]
     },
     "metadata": {
      "needs_background": "light"
     },
     "output_type": "display_data"
    },
    {
     "name": "stdout",
     "output_type": "stream",
     "text": [
      "TAG_POTENCIA_COMP4\n"
     ]
    },
    {
     "data": {
      "image/png": "[encoded data removed]",
      "text/plain": [
       "<Figure size 432x288 with 1 Axes>"
      ]
     },
     "metadata": {
      "needs_background": "light"
     },
     "output_type": "display_data"
    },
    {
     "name": "stdout",
     "output_type": "stream",
     "text": [
      "TAG_POTENCIA_COMP5\n"
     ]
    },
    {
     "data": {
      "image/png": "[encoded data removed]",
      "text/plain": [
       "<Figure size 432x288 with 1 Axes>"
      ]
     },
     "metadata": {
      "needs_background": "light"
     },
     "output_type": "display_data"
    },
    {
     "name": "stdout",
     "output_type": "stream",
     "text": [
      "TAG_POTENCIA_COMP6\n"
     ]
    },
    {
     "data": {
      "image/png": "[encoded data removed]",
      "text/plain": [
       "<Figure size 432x288 with 1 Axes>"
      ]
     },
     "metadata": {
      "needs_background": "light"
     },
     "output_type": "display_data"
    },
    {
     "name": "stdout",
     "output_type": "stream",
     "text": [
      "TAG_POTENCIA_INVERTER\n"
     ]
    },
    {
     "data": {
      "image/png": "[encoded data removed]",
      "text/plain": [
       "<Figure size 432x288 with 1 Axes>"
      ]
     },
     "metadata": {
      "needs_background": "light"
     },
     "output_type": "display_data"
    },
    {
     "name": "stdout",
     "output_type": "stream",
     "text": [
      "TAG_SETPOINT_ASP\n"
     ]
    },
    {
     "data": {
      "image/png": "[encoded data removed]",
      "text/plain": [
       "<Figure size 432x288 with 1 Axes>"
      ]
     },
     "metadata": {
      "needs_background": "light"
     },
     "output_type": "display_data"
    },
    {
     "name": "stdout",
     "output_type": "stream",
     "text": [
      "TAG_SETPOINT_COND\n"
     ]
    },
    {
     "data": {
      "image/png": "[encoded data removed]",
      "text/plain": [
       "<Figure size 432x288 with 1 Axes>"
      ]
     },
     "metadata": {
      "needs_background": "light"
     },
     "output_type": "display_data"
    },
    {
     "name": "stdout",
     "output_type": "stream",
     "text": [
      "TAG_SONDA_ASP\n"
     ]
    },
    {
     "data": {
      "image/png": "[encoded data removed]",
      "text/plain": [
       "<Figure size 432x288 with 1 Axes>"
      ]
     },
     "metadata": {
      "needs_background": "light"
     },
     "output_type": "display_data"
    },
    {
     "name": "stdout",
     "output_type": "stream",
     "text": [
      "TAG_SONDA_COND\n"
     ]
    },
    {
     "data": {
      "image/png": "[encoded data removed]",
      "text/plain": [
       "<Figure size 432x288 with 1 Axes>"
      ]
     },
     "metadata": {
      "needs_background": "light"
     },
     "output_type": "display_data"
    },
    {
     "name": "stdout",
     "output_type": "stream",
     "text": [
      "TAG_SONDA_TEMP_EXT\n"
     ]
    },
    {
     "data": {
      "image/png": "[encoded data removed]",
      "text/plain": [
       "<Figure size 432x288 with 1 Axes>"
      ]
     },
     "metadata": {
      "needs_background": "light"
     },
     "output_type": "display_data"
    },
    {
     "name": "stdout",
     "output_type": "stream",
     "text": [
      "TAG_SONDA_TEMP_SUBENF\n"
     ]
    },
    {
     "data": {
      "image/png": "[encoded data removed]",
      "text/plain": [
       "<Figure size 432x288 with 1 Axes>"
      ]
     },
     "metadata": {
      "needs_background": "light"
     },
     "output_type": "display_data"
    },
    {
     "name": "stdout",
     "output_type": "stream",
     "text": [
      "TAG_VENTILADOR1\n"
     ]
    },
    {
     "data": {
      "image/png": "[encoded data removed]",
      "text/plain": [
       "<Figure size 432x288 with 1 Axes>"
      ]
     },
     "metadata": {
      "needs_background": "light"
     },
     "output_type": "display_data"
    },
    {
     "name": "stdout",
     "output_type": "stream",
     "text": [
      "TAG_VENTILADOR2\n"
     ]
    },
    {
     "data": {
      "image/png": "[encoded data removed]",
      "text/plain": [
       "<Figure size 432x288 with 1 Axes>"
      ]
     },
     "metadata": {
      "needs_background": "light"
     },
     "output_type": "display_data"
    },
    {
     "name": "stdout",
     "output_type": "stream",
     "text": [
      "TAG_VENTILADOR3\n"
     ]
    },
    {
     "data": {
      "image/png": "[encoded data removed]",
      "text/plain": [
       "<Figure size 432x288 with 1 Axes>"
      ]
     },
     "metadata": {
      "needs_background": "light"
     },
     "output_type": "display_data"
    }
   ],
   "source": [
    "import os\n",
    "# Draw the plot_date with \n",
    "mask = df_Central.loc[(df_Central['TS'] > '2019-07-01 00:00:00') & (df_Central['TS'] <= '2019-07-01 23:00:00')]\n",
    "mask= mask.loc[(mask['NAME_CENTRO'] == 'C4148 C/ Rioja Coslada Madrid')]\n",
    "\n",
    "mask = mask.sort_values('TS')\n",
    "\n",
    "plt.xticks(rotation=90)\n",
    "\n",
    "#load the colums in a dataframe\n",
    "cols=list(df_Central.columns)\n",
    "\n",
    "#Path\n",
    "#mypath= os.path.abspath(__file__)\n",
    "mypath = os.getcwd()\n",
    "\n",
    "# Drawing the plots\n",
    "i=3\n",
    "while i <= (len(cols) - 3):\n",
    "        \n",
    "#    plt.plot_date(df_Variables[cols[i]].dropna(), vert=False)\n",
    "    print(cols[i])\n",
    "    plt.plot_date(mask['TS'], mask[cols[i]])\n",
    "    plt.xticks(rotation=90)\n",
    "    plt.show()\n",
    "    # add to iteration counter\n",
    "    i += 1"
   ]
  },
  {
   "cell_type": "code",
   "execution_count": null,
   "metadata": {},
   "outputs": [],
   "source": []
  },
  {
   "cell_type": "code",
   "execution_count": null,
   "metadata": {},
   "outputs": [],
   "source": []
  },
  {
   "cell_type": "code",
   "execution_count": null,
   "metadata": {},
   "outputs": [],
   "source": [
    "TAG_CONV_SONDA_COND = df_central.loc[(df_central['TAG_CONV_SONDA_COND'] <-500) ]\n",
    "TAG_POTENCIA_COMP1 = df_central.loc[(df_central['TAG_POTENCIA_COMP1'] <-500) ]\n",
    "TAG_POTENCIA_COMP2 = df_central.loc[(df_central['TAG_POTENCIA_COMP2'] <-500) ]\n",
    "TAG_POTENCIA_COMP3 = df_central.loc[(df_central['TAG_POTENCIA_COMP3'] <-500) ]\n",
    "TAG_POTENCIA_COMP4 = df_central.loc[(df_central['TAG_POTENCIA_COMP4'] <-500) ]\n",
    "TAG_POTENCIA_COMP5 = df_central.loc[(df_central['TAG_POTENCIA_COMP5'] <-500) ]\n",
    "TAG_POTENCIA_COMP6 = df_central.loc[(df_central['TAG_POTENCIA_COMP6'] <-500) ]\n",
    "TAG_SETPOINT_ASP = df_central.loc[(df_central['TAG_SETPOINT_ASP'] <-500) ]\n",
    "TAG_SETPOINT_COND = df_central.loc[(df_central['TAG_SETPOINT_COND'] <-500) ]\n",
    "TAG_SONDA_ASP = df_central.loc[(df_central['TAG_SONDA_ASP'] <-500) ]\n",
    "TAG_SONDA_COND = df_central.loc[(df_central['TAG_SONDA_COND'] <-500) ]\n",
    "TAG_SONDA_TEMP_EXT = df_central.loc[(df_central['TAG_SONDA_TEMP_EXT'] <-500) ]\n",
    "TAG_SONDA_TEMP_SUBENF = df_central.loc[(df_central['TAG_SONDA_TEMP_SUBENF'] <-500) ]\n"
   ]
  },
  {
   "cell_type": "code",
   "execution_count": null,
   "metadata": {},
   "outputs": [],
   "source": [
    "print(TAG_CONV_SONDA_COND['ID_LOCATION'].unique())\n",
    "print(TAG_POTENCIA_COMP1['ID_LOCATION'].unique())\n",
    "print(TAG_POTENCIA_COMP2['ID_LOCATION'].unique())\n",
    "print(TAG_POTENCIA_COMP3['ID_LOCATION'].unique())\n",
    "print(TAG_POTENCIA_COMP4['ID_LOCATION'].unique())\n",
    "print(TAG_POTENCIA_COMP5['ID_LOCATION'].unique())\n",
    "print(TAG_POTENCIA_COMP6['ID_LOCATION'].unique())\n",
    "print(TAG_SETPOINT_ASP['ID_LOCATION'].unique())\n",
    "print(TAG_SETPOINT_COND['ID_LOCATION'].unique())\n",
    "print(TAG_SONDA_ASP['ID_LOCATION'].unique())\n",
    "print(TAG_SONDA_COND['ID_LOCATION'].unique())\n",
    "print(TAG_SONDA_TEMP_EXT['ID_LOCATION'].unique())\n",
    "print(TAG_SONDA_TEMP_EXT['ID_LOCATION'].unique())"
   ]
  },
  {
   "cell_type": "code",
   "execution_count": null,
   "metadata": {},
   "outputs": [],
   "source": []
  },
  {
   "cell_type": "code",
   "execution_count": null,
   "metadata": {},
   "outputs": [],
   "source": []
  },
  {
   "cell_type": "code",
   "execution_count": null,
   "metadata": {},
   "outputs": [],
   "source": []
  }
 ],
 "metadata": {
  "colab": {
   "collapsed_sections": [],
   "name": "Cleaning.ipynb",
   "provenance": []
  },
  "environment": {
   "name": "common-cpu.m56",
   "type": "gcloud",
   "uri": "gcr.io/deeplearning-platform-release/base-cpu:m56"
  },
  "kernelspec": {
   "display_name": "Python 3",
   "language": "python",
   "name": "python3"
  },
  "language_info": {
   "codemirror_mode": {
    "name": "ipython",
    "version": 3
   },
   "file_extension": ".py",
   "mimetype": "text/x-python",
   "name": "python",
   "nbconvert_exporter": "python",
   "pygments_lexer": "ipython3",
   "version": "3.7.8"
  }
 },
 "nbformat": 4,
 "nbformat_minor": 4
}
